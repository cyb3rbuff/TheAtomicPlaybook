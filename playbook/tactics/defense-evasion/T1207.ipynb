{
 "cells": [
  {
   "cell_type": "markdown",
   "metadata": {},
   "source": [
    "# T1207 - Rogue Domain Controller",
    "\n",
    "Adversaries may register a rogue Domain Controller to enable manipulation of Active Directory data. DCShadow may be used to create a rogue Domain Controller (DC). DCShadow is a method of manipulating Active Directory (AD) data, including objects and schemas, by registering (or reusing an inactive registration) and simulating the behavior of a DC. (Citation: DCShadow Blog) Once registered, a rogue DC may be able to inject and replicate changes into AD infrastructure for any domain object, including credentials and keys.\n\nRegistering a rogue DC involves creating a new server and nTDSDSA objects in the Configuration partition of the AD schema, which requires Administrator privileges (either Domain or local to the DC) or the KRBTGT hash. (Citation: Adsecurity Mimikatz Guide)\n\nThis technique may bypass system logging and security monitors such as security information and event management (SIEM) products (since actions taken on a rogue DC may not be reported to these sensors). (Citation: DCShadow Blog) The technique may also be used to alter and delete replication and other associated metadata to obstruct forensic analysis. Adversaries may also utilize this technique to perform [SID-History Injection](https://attack.mitre.org/techniques/T1178) and/or manipulate AD objects (such as accounts, access control lists, schemas) to establish backdoors for Persistence. (Citation: DCShadow Blog)"
   ]
  },
  {
   "cell_type": "markdown",
   "metadata": {},
   "source": [
    "## Atomic Tests"
   ]
  },
  {
   "cell_type": "code",
   "execution_count": null,
   "metadata": {},
   "outputs": [],
   "source": [
    "#Import the Module before running the tests.\nImport-Module /Users/0x6c/AtomicRedTeam/atomics/invoke-atomicredteam/Invoke-AtomicRedTeam.psd1 - Force"
   ]
  },
  {
   "cell_type": "markdown",
   "metadata": {},
   "source": [
    "### Atomic Test #1 - DCShadow - Mimikatz\nUtilize Mimikatz DCShadow method to simulate behavior of a Domain Controller\n\n[DCShadow](https://www.dcshadow.com/)\n[Additional Reference](http://www.labofapenetrationtester.com/2018/04/dcshadow.html)\n\n**Supported Platforms:** windows\nRun it with these steps!\n1\n.\n \nS\nt\na\nr\nt\n \nM\ni\nm\ni\nk\na\nt\nz\n \na\nn\nd\n \nu\ns\ne\n \n!\np\nr\no\nc\ne\ns\ns\nt\no\nk\ne\nn\n \n(\na\nn\nd\n \nn\no\nt\n \nt\no\nk\ne\nn\n:\n:\ne\nl\ne\nv\na\nt\ne\n \n-\n \na\ns\n \ni\nt\n \ne\nl\ne\nv\na\nt\ne\ns\n \na\n \nt\nh\nr\ne\na\nd\n)\n \nt\no\n \ne\ns\nc\na\nl\na\nt\ne\n \nt\no\n \nS\nY\nS\nT\nE\nM\n.\n\n\n2\n.\n \nS\nt\na\nr\nt\n \na\nn\no\nt\nh\ne\nr\n \nm\ni\nm\ni\nk\na\nt\nz\n \nw\ni\nt\nh\n \nD\nA\n \np\nr\ni\nv\ni\nl\ne\ng\ne\ns\n.\n \nT\nh\ni\ns\n \ni\ns\n \nt\nh\ne\n \ni\nn\ns\nt\na\nn\nc\ne\n \nw\nh\ni\nc\nh\n \nr\ne\ng\ni\ns\nt\ne\nr\ns\n \na\n \nD\nC\n \na\nn\nd\n \ni\ns\n \nu\ns\ne\nd\n \nt\no\n \n\"\np\nu\ns\nh\n\"\n \nt\nh\ne\n \na\nt\nt\nr\ni\nb\nu\nt\ne\ns\n.\n\n\n3\n.\n \nl\ns\na\nd\nu\nm\np\n:\n:\nd\nc\ns\nh\na\nd\no\nw\n \n/\no\nb\nj\ne\nc\nt\n:\no\np\ns\n-\nu\ns\ne\nr\n1\n9\n$\n \n/\na\nt\nt\nr\ni\nb\nu\nt\ne\n:\nu\ns\ne\nr\nA\nc\nc\no\nu\nn\nt\nC\no\nn\nt\nr\no\nl\n \n/\nv\na\nl\nu\ne\n:\n5\n3\n2\n4\n8\n0\n\n\n4\n.\n \nl\ns\na\nd\nu\nm\np\n:\n:\nd\nc\ns\nh\na\nd\no\nw\n \n/\np\nu\ns\nh\n\n"
   ]
  },
  {
   "cell_type": "markdown",
   "metadata": {},
   "source": [
    "## Detection",
    "\n",
    "Monitor and analyze network traffic associated with data replication (such as calls to DrsAddEntry, DrsReplicaAdd, and especially GetNCChanges) between DCs as well as to/from non DC hosts. (Citation: GitHub DCSYNCMonitor) (Citation: DCShadow Blog) DC replication will naturally take place every 15 minutes but can be triggered by an attacker or by legitimate urgent changes (ex: passwords). Also consider monitoring and alerting on the replication of AD objects (Audit Detailed Directory Service Replication Events 4928 and 4929). (Citation: DCShadow Blog)\n\nLeverage AD directory synchronization (DirSync) to monitor changes to directory state using AD replication cookies. (Citation: Microsoft DirSync) (Citation: ADDSecurity DCShadow Feb 2018)\n\nBaseline and periodically analyze the Configuration partition of the AD schema and alert on creation of nTDSDSA objects. (Citation: DCShadow Blog)\n\nInvestigate usage of Kerberos Service Principal Names (SPNs), especially those associated with services (beginning with \u201cGC/\u201d) by computers not present in the DC organizational unit (OU). The SPN associated with the Directory Replication Service (DRS) Remote Protocol interface (GUID E3514235\u20134B06\u201311D1-AB04\u201300C04FC2DCD2) can be set without logging. (Citation: ADDSecurity DCShadow Feb 2018) A rogue DC must authenticate as a service using these two SPNs for the replication process to successfully complete."
   ]
  }
 ],
 "metadata": {
  "kernelspec": {
   "display_name": ".NET (PowerShell)",
   "language": "PowerShell",
   "name": ".net-powershell"
  },
  "language_info": {
   "file_extension": ".ps1",
   "mimetype": "text/x-powershell",
   "name": "PowerShell",
   "pygments_lexer": "powershell",
   "version": "7.0"
  }
 },
 "nbformat": 4,
 "nbformat_minor": 4
}