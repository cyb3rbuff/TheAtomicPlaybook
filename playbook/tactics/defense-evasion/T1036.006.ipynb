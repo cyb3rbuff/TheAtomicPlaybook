{
 "cells": [
  {
   "cell_type": "markdown",
   "metadata": {},
   "source": [
    "# T1036.006 - Masquerading: Space after Filename",
    "\n",
    "Adversaries can hide a program's true filetype by changing the extension of a file. With certain file types (specifically this does not work with .app extensions), appending a space to the end of a filename will change how the file is processed by the operating system.\n\nFor example, if there is a Mach-O executable file called <code>evil.bin</code>, when it is double clicked by a user, it will launch Terminal.app and execute. If this file is renamed to <code>evil.txt</code>, then when double clicked by a user, it will launch with the default text editing application (not executing the binary). However, if the file is renamed to <code>evil.txt </code> (note the space at the end), then when double clicked by a user, the true file type is determined by the OS and handled appropriately and the binary will be executed (Citation: Mac Backdoors are back).\n\nAdversaries can use this feature to trick users into double clicking benign-looking files of any format and ultimately executing something malicious."
   ]
  },
  {
   "cell_type": "markdown",
   "metadata": {},
   "source": [
    "## Atomic Tests"
   ]
  },
  {
   "cell_type": "code",
   "execution_count": null,
   "metadata": {},
   "outputs": [],
   "source": [
    "#Import the Module before running the tests.\nImport-Module /Users/0x6c/AtomicRedTeam/atomics/invoke-atomicredteam/Invoke-AtomicRedTeam.psd1 - Force"
   ]
  },
  {
   "cell_type": "markdown",
   "metadata": {},
   "source": [
    "### Atomic Test #1 - Space After Filename\nSpace After Filename\n\n**Supported Platforms:** macos\nRun it with these steps!\n1\n.\n \n1\n.\n \ne\nc\nh\no\n \n'\n#\n!\n/\nb\ni\nn\n/\nb\na\ns\nh\n\\\nn\ne\nc\nh\no\n \n\"\np\nr\ni\nn\nt\n \n\\\n\"\nh\ne\nl\nl\no\n,\n \nw\no\nr\nl\nd\n!\n\\\n\"\n\"\n \n|\n \n/\nu\ns\nr\n/\nb\ni\nn\n/\np\ny\nt\nh\no\nn\n\\\nn\ne\nx\ni\nt\n'\n \n>\n \ne\nx\ne\nc\nu\nt\ne\n.\nt\nx\nt\n \n&\n&\n \nc\nh\nm\no\nd\n \n+\nx\n \ne\nx\ne\nc\nu\nt\ne\n.\nt\nx\nt\n\n\n\n\n2\n.\n \nm\nv\n \ne\nx\ne\nc\nu\nt\ne\n.\nt\nx\nt\n \n\"\ne\nx\ne\nc\nu\nt\ne\n.\nt\nx\nt\n \n\"\n\n\n\n\n3\n.\n \n.\n/\ne\nx\ne\nc\nu\nt\ne\n.\nt\nx\nt\n\\\n \n\n"
   ]
  },
  {
   "cell_type": "markdown",
   "metadata": {},
   "source": [
    "## Detection",
    "\n",
    "It's not common for spaces to be at the end of filenames, so this is something that can easily be checked with file monitoring. From the user's perspective though, this is very hard to notice from within the Finder.app or on the command-line in Terminal.app. Processes executed from binaries containing non-standard extensions in the filename are suspicious."
   ]
  }
 ],
 "metadata": {
  "kernelspec": {
   "display_name": ".NET (PowerShell)",
   "language": "PowerShell",
   "name": ".net-powershell"
  },
  "language_info": {
   "file_extension": ".ps1",
   "mimetype": "text/x-powershell",
   "name": "PowerShell",
   "pygments_lexer": "powershell",
   "version": "7.0"
  }
 },
 "nbformat": 4,
 "nbformat_minor": 4
}