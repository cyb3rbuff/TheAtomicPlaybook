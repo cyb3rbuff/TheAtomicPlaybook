{
 "cells": [
  {
   "cell_type": "markdown",
   "metadata": {},
   "source": [
    "# T1176 - Browser Extensions",
    "\n",
    "Adversaries may abuse Internet browser extensions to establish persistence access to victim systems. Browser extensions or plugins are small programs that can add functionality and customize aspects of Internet browsers. They can be installed directly or through a browser's app store and generally have access and permissions to everything that the browser can access. (Citation: Wikipedia Browser Extension) (Citation: Chrome Extensions Definition)\n\nMalicious extensions can be installed into a browser through malicious app store downloads masquerading as legitimate extensions, through social engineering, or by an adversary that has already compromised a system. Security can be limited on browser app stores so it may not be difficult for malicious extensions to defeat automated scanners. (Citation: Malicious Chrome Extension Numbers) Once the extension is installed, it can browse to websites in the background, (Citation: Chrome Extension Crypto Miner) (Citation: ICEBRG Chrome Extensions) steal all information that a user enters into a browser (including credentials) (Citation: Banker Google Chrome Extension Steals Creds) (Citation: Catch All Chrome Extension) and be used as an installer for a RAT for persistence.\n\nThere have also been instances of botnets using a persistent backdoor through malicious Chrome extensions. (Citation: Stantinko Botnet) There have also been similar examples of extensions being used for command & control  (Citation: Chrome Extension C2 Malware)."
   ]
  },
  {
   "cell_type": "markdown",
   "metadata": {},
   "source": [
    "## Atomic Tests"
   ]
  },
  {
   "cell_type": "code",
   "execution_count": null,
   "metadata": {},
   "outputs": [],
   "source": [
    "#Import the Module before running the tests.\nImport-Module /Users/0x6c/AtomicRedTeam/atomics/invoke-atomicredteam/Invoke-AtomicRedTeam.psd1 - Force"
   ]
  },
  {
   "cell_type": "markdown",
   "metadata": {},
   "source": [
    "### Atomic Test #1 - Chrome (Developer Mode)\nTurn on Chrome developer mode and Load Extension found in the src directory\n**Supported Platforms:** linux, windows, macos\nRun it with these steps!\n1\n.\n \nN\na\nv\ni\ng\na\nt\ne\n \nt\no\n \n[\nc\nh\nr\no\nm\ne\n:\n/\n/\ne\nx\nt\ne\nn\ns\ni\no\nn\ns\n]\n(\nc\nh\nr\no\nm\ne\n:\n/\n/\ne\nx\nt\ne\nn\ns\ni\no\nn\ns\n)\n \na\nn\nd\n\n\nt\ni\nc\nk\n \n'\nD\ne\nv\ne\nl\no\np\ne\nr\n \nM\no\nd\ne\n'\n.\n\n\n\n\n2\n.\n \nC\nl\ni\nc\nk\n \n'\nL\no\na\nd\n \nu\nn\np\na\nc\nk\ne\nd\n \ne\nx\nt\ne\nn\ns\ni\no\nn\n.\n.\n.\n'\n \na\nn\nd\n \nn\na\nv\ni\ng\na\nt\ne\n \nt\no\n\n\n[\nB\nr\no\nw\ns\ne\nr\n_\nE\nx\nt\ne\nn\ns\ni\no\nn\n]\n(\n.\n.\n/\nt\n1\n1\n7\n6\n/\ns\nr\nc\n/\n)\n\n\n\n\n3\n.\n \nC\nl\ni\nc\nk\n \n'\nS\ne\nl\ne\nc\nt\n'\n\n"
   ]
  },
  {
   "cell_type": "markdown",
   "metadata": {},
   "source": [
    "### Atomic Test #2 - Chrome (Chrome Web Store)\nInstall the \"Minimum Viable Malicious Extension\" Chrome extension\n**Supported Platforms:** linux, windows, macos\nRun it with these steps!\n1\n.\n \nN\na\nv\ni\ng\na\nt\ne\n \nt\no\n \nh\nt\nt\np\ns\n:\n/\n/\nc\nh\nr\no\nm\ne\n.\ng\no\no\ng\nl\ne\n.\nc\no\nm\n/\nw\ne\nb\ns\nt\no\nr\ne\n/\nd\ne\nt\na\ni\nl\n/\nm\ni\nn\ni\nm\nu\nm\n-\nv\ni\na\nb\nl\ne\n-\nm\na\nl\ni\nc\ni\no\nu\ns\n/\no\nd\nl\np\nf\nd\no\nl\ne\nh\nm\nh\nc\ni\ni\ne\nb\na\nh\nb\np\nn\na\no\np\nn\ne\ni\nc\ne\nn\nd\n\n\ni\nn\n \nC\nh\nr\no\nm\ne\n\n\n\n\n2\n.\n \nC\nl\ni\nc\nk\n \n'\nA\nd\nd\n \nt\no\n \nC\nh\nr\no\nm\ne\n'\n\n"
   ]
  },
  {
   "cell_type": "markdown",
   "metadata": {},
   "source": [
    "### Atomic Test #3 - Firefox\nCreate a file called test.wma, with the duration of 30 seconds\n\n**Supported Platforms:** linux, windows, macos\nRun it with these steps!\n1\n.\n \nN\na\nv\ni\ng\na\nt\ne\n \nt\no\n \n[\na\nb\no\nu\nt\n:\nd\ne\nb\nu\ng\ng\ni\nn\ng\n]\n(\na\nb\no\nu\nt\n:\nd\ne\nb\nu\ng\ng\ni\nn\ng\n)\n \na\nn\nd\n\n\nc\nl\ni\nc\nk\n \n\"\nL\no\na\nd\n \nT\ne\nm\np\no\nr\na\nr\ny\n \nA\nd\nd\n-\no\nn\n\"\n\n\n\n\n2\n.\n \nN\na\nv\ni\ng\na\nt\ne\n \nt\no\n \n[\nm\na\nn\ni\nf\ne\ns\nt\n.\nj\ns\no\nn\n]\n(\n.\n/\ns\nr\nc\n/\nm\na\nn\ni\nf\ne\ns\nt\n.\nj\ns\no\nn\n)\n\n\n\n\n3\n.\n \nT\nh\ne\nn\n \nc\nl\ni\nc\nk\n \n'\nO\np\ne\nn\n'\n\n"
   ]
  },
  {
   "cell_type": "markdown",
   "metadata": {},
   "source": [
    "### Atomic Test #4 - Edge Chromium Addon - VPN\nAdversaries may use VPN extensions in an attempt to hide traffic sent from a compromised host. This will install one (of many) available VPNS in the Edge add-on store.\n\n**Supported Platforms:** windows, macos\nRun it with these steps!\n1\n.\n \nN\na\nv\ni\ng\na\nt\ne\n \nt\no\n \nh\nt\nt\np\ns\n:\n/\n/\nm\ni\nc\nr\no\ns\no\nf\nt\ne\nd\ng\ne\n.\nm\ni\nc\nr\no\ns\no\nf\nt\n.\nc\no\nm\n/\na\nd\nd\no\nn\ns\n/\nd\ne\nt\na\ni\nl\n/\nf\nj\nn\ne\nh\nc\nb\ne\nc\na\ng\ng\no\nb\nj\nh\no\nl\ne\nk\nj\ni\nj\na\na\ne\nk\nb\nn\nl\ng\nj\n\n\ni\nn\n \nE\nd\ng\ne\n \nC\nh\nr\no\nm\ni\nu\nm\n\n\n\n\n2\n.\n \nC\nl\ni\nc\nk\n \n'\nG\ne\nt\n'\n\n"
   ]
  },
  {
   "cell_type": "markdown",
   "metadata": {},
   "source": [
    "## Detection",
    "\n",
    "Inventory and monitor browser extension installations that deviate from normal, expected, and benign extensions. Process and network monitoring can be used to detect browsers communicating with a C2 server. However, this may prove to be a difficult way of initially detecting a malicious extension depending on the nature and volume of the traffic it generates.\n\nMonitor for any new items written to the Registry or PE files written to disk. That may correlate with browser extension installation."
   ]
  }
 ],
 "metadata": {
  "kernelspec": {
   "display_name": ".NET (PowerShell)",
   "language": "PowerShell",
   "name": ".net-powershell"
  },
  "language_info": {
   "file_extension": ".ps1",
   "mimetype": "text/x-powershell",
   "name": "PowerShell",
   "pygments_lexer": "powershell",
   "version": "7.0"
  }
 },
 "nbformat": 4,
 "nbformat_minor": 4
}