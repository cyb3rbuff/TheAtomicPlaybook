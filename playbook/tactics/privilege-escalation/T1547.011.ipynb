{
 "cells": [
  {
   "cell_type": "markdown",
   "metadata": {},
   "source": [
    "# T1547.011 - Boot or Logon Autostart Execution: Plist Modification",
    "\n",
    "Adversaries may modify plist files to run a program during system boot or user login. Property list (plist) files contain all of the information that macOS and OS X uses to configure applications and services. These files are UTF-8 encoded and formatted like XML documents via a series of keys surrounded by < >. They detail when programs should execute, file paths to the executables, program arguments, required OS permissions, and many others. plists are located in certain locations depending on their purpose such as <code>/Library/Preferences</code> (which execute with elevated privileges) and <code>~/Library/Preferences</code> (which execute with a user's privileges). \n\nAdversaries can modify plist files to execute their code as part of establishing persistence. plists may also be used to elevate privileges since they may execute in the context of another user.(Citation: Sofacy Komplex Trojan) \n\nA specific plist used for execution at login is <code>com.apple.loginitems.plist</code>.(Citation: Methods of Mac Malware Persistence) Applications under this plist run under the logged in user's context, and will be started every time the user logs in. Login items installed using the Service Management Framework are not visible in the System Preferences and can only be removed by the application that created them.(Citation: Adding Login Items) Users have direct control over login items installed using a shared file list which are also visible in System Preferences (Citation: Adding Login Items). Some of these applications can open visible dialogs to the user, but they don\u2019t all have to since there is an option to \"hide\" the window. If an adversary can register their own login item or modified an existing one, then they can use it to execute their code for a persistence mechanism each time the user logs in (Citation: Malware Persistence on OS X) (Citation: OSX.Dok Malware). The API method <code> SMLoginItemSetEnabled</code> can be used to set Login Items, but scripting languages like [AppleScript](https://attack.mitre.org/techniques/T1059/002) can do this as well. (Citation: Adding Login Items)"
   ]
  },
  {
   "cell_type": "markdown",
   "metadata": {},
   "source": [
    "## Atomic Tests"
   ]
  },
  {
   "cell_type": "code",
   "execution_count": null,
   "metadata": {},
   "outputs": [],
   "source": [
    "#Import the Module before running the tests.\nImport-Module /Users/0x6c/AtomicRedTeam/atomics/invoke-atomicredteam/Invoke-AtomicRedTeam.psd1 - Force"
   ]
  },
  {
   "cell_type": "markdown",
   "metadata": {},
   "source": [
    "### Atomic Test #1 - Plist Modification\nModify MacOS plist file in one of two directories\n\n**Supported Platforms:** macos\nRun it with these steps!\n1\n.\n \nM\no\nd\ni\nf\ny\n \na\n \n.\np\nl\ni\ns\nt\n \ni\nn\n\n\n\n\n \n \n \n \n/\nL\ni\nb\nr\na\nr\ny\n/\nP\nr\ne\nf\ne\nr\ne\nn\nc\ne\ns\n\n\n\n\n \n \n \n \nO\nR\n\n\n\n\n \n \n \n \n~\n/\nL\ni\nb\nr\na\nr\ny\n/\nP\nr\ne\nf\ne\nr\ne\nn\nc\ne\ns\n\n\n\n\n2\n.\n \nS\nu\nb\ns\ne\nq\nu\ne\nn\nt\nl\ny\n,\n \nf\no\nl\nl\no\nw\n \nt\nh\ne\n \ns\nt\ne\np\ns\n \nf\no\nr\n \na\nd\nd\ni\nn\ng\n \na\nn\nd\n \nr\nu\nn\nn\ni\nn\ng\n \nv\ni\na\n \n[\nL\na\nu\nn\nc\nh\n \nA\ng\ne\nn\nt\n]\n(\nP\ne\nr\ns\ni\ns\nt\ne\nn\nc\ne\n/\nL\na\nu\nn\nc\nh\n_\nA\ng\ne\nn\nt\n.\nm\nd\n)\n\n"
   ]
  },
  {
   "cell_type": "markdown",
   "metadata": {},
   "source": [
    "## Detection",
    "\n",
    "File system monitoring can determine if plist files are being modified. Users should not have permission to modify these in most cases. Some software tools like \"Knock Knock\" can detect persistence mechanisms and point to the specific files that are being referenced. This can be helpful to see what is actually being executed.\n\nAll the login items created via shared file lists are viewable by going to the Apple menu -> System Preferences -> Users & Groups -> Login items. This area (and the corresponding file locations) should be monitored and allowed for known good applications. Otherwise, Login Items are located in <code> Contents/Library/LoginItems </code> within an application bundle, so these paths should be monitored as well.(Citation: Adding Login Items)\n\nMonitor process execution for abnormal process execution resulting from modified plist files. Monitor utilities used to modify plist files or that take a plist file as an argument, which may indicate suspicious activity."
   ]
  }
 ],
 "metadata": {
  "kernelspec": {
   "display_name": ".NET (PowerShell)",
   "language": "PowerShell",
   "name": ".net-powershell"
  },
  "language_info": {
   "file_extension": ".ps1",
   "mimetype": "text/x-powershell",
   "name": "PowerShell",
   "pygments_lexer": "powershell",
   "version": "7.0"
  }
 },
 "nbformat": 4,
 "nbformat_minor": 4
}