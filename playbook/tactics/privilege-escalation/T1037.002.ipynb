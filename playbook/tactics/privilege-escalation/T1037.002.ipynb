{
 "cells": [
  {
   "cell_type": "markdown",
   "metadata": {},
   "source": [
    "# T1037.002 - Boot or Logon Initialization Scripts: Logon Script (Mac)",
    "\n",
    "Adversaries may use macOS logon scripts automatically executed at logon initialization to establish persistence. macOS allows logon scripts (known as login hooks) to be executed whenever a specific user logs into a system. A login hook tells Mac OS X to execute a certain script when a user logs in, but unlike [Startup Items](https://attack.mitre.org/techniques/T1037/005), a login hook executes as the elevated root user.(Citation: creating login hook)\n\nAdversaries may use these login hooks to maintain persistence on a single system.(Citation: S1 macOs Persistence) Access to login hook scripts may allow an adversary to insert additional malicious code. There can only be one login hook at a time though and depending on the access configuration of the hooks, either local credentials or an administrator account may be necessary. "
   ]
  },
  {
   "cell_type": "markdown",
   "metadata": {},
   "source": [
    "## Atomic Tests"
   ]
  },
  {
   "cell_type": "code",
   "execution_count": null,
   "metadata": {},
   "outputs": [],
   "source": [
    "#Import the Module before running the tests.\nImport-Module /Users/0x6c/AtomicRedTeam/atomics/invoke-atomicredteam/Invoke-AtomicRedTeam.psd1 - Force"
   ]
  },
  {
   "cell_type": "markdown",
   "metadata": {},
   "source": [
    "### Atomic Test #1 - Logon Scripts - Mac\nMac logon script\n\n**Supported Platforms:** macos\nRun it with these steps!\n1\n.\n \nC\nr\ne\na\nt\ne\n \nt\nh\ne\n \nr\ne\nq\nu\ni\nr\ne\nd\n \np\nl\ni\ns\nt\n \nf\ni\nl\ne\n\n\n\n\n \n \n \n \ns\nu\nd\no\n \nt\no\nu\nc\nh\n \n/\np\nr\ni\nv\na\nt\ne\n/\nv\na\nr\n/\nr\no\no\nt\n/\nL\ni\nb\nr\na\nr\ny\n/\nP\nr\ne\nf\ne\nr\ne\nn\nc\ne\ns\n/\nc\no\nm\n.\na\np\np\nl\ne\n.\nl\no\ng\ni\nn\nw\ni\nn\nd\no\nw\n.\np\nl\ni\ns\nt\n\n\n\n\n2\n.\n \nP\no\np\nu\nl\na\nt\ne\n \nt\nh\ne\n \np\nl\ni\ns\nt\n \nw\ni\nt\nh\n \nt\nh\ne\n \nl\no\nc\na\nt\ni\no\nn\n \no\nf\n \ny\no\nu\nr\n \ns\nh\ne\nl\nl\n \ns\nc\nr\ni\np\nt\n\n\n\n\n \n \n \n \ns\nu\nd\no\n \nd\ne\nf\na\nu\nl\nt\ns\n \nw\nr\ni\nt\ne\n \nc\no\nm\n.\na\np\np\nl\ne\n.\nl\no\ng\ni\nn\nw\ni\nn\nd\no\nw\n \nL\no\ng\ni\nn\nH\no\no\nk\n \n/\nL\ni\nb\nr\na\nr\ny\n/\nS\nc\nr\ni\np\nt\ns\n/\nA\nt\no\nm\ni\nc\nR\ne\nd\nT\ne\na\nm\n.\ns\nh\n\n\n\n\n3\n.\n \nC\nr\ne\na\nt\ne\n \nt\nh\ne\n \nr\ne\nq\nu\ni\nr\ne\nd\n \np\nl\ni\ns\nt\n \nf\ni\nl\ne\n \ni\nn\n \nt\nh\ne\n \nt\na\nr\ng\ne\nt\n \nu\ns\ne\nr\n'\ns\n \nP\nr\ne\nf\ne\nr\ne\nn\nc\ne\ns\n \nd\ni\nr\ne\nc\nt\no\nr\ny\n\n\n\n\n\t\n \n \nt\no\nu\nc\nh\n \n/\nU\ns\ne\nr\ns\n/\n$\nU\nS\nE\nR\n/\nL\ni\nb\nr\na\nr\ny\n/\nP\nr\ne\nf\ne\nr\ne\nn\nc\ne\ns\n/\nc\no\nm\n.\na\np\np\nl\ne\n.\nl\no\ng\ni\nn\nw\ni\nn\nd\no\nw\n.\np\nl\ni\ns\nt\n\n\n\n\n4\n.\n \nP\no\np\nu\nl\na\nt\ne\n \nt\nh\ne\n \np\nl\ni\ns\nt\n \nw\ni\nt\nh\n \nt\nh\ne\n \nl\no\nc\na\nt\ni\no\nn\n \no\nf\n \ny\no\nu\nr\n \ns\nh\ne\nl\nl\n \ns\nc\nr\ni\np\nt\n\n\n\n\n\t\n \n \nd\ne\nf\na\nu\nl\nt\ns\n \nw\nr\ni\nt\ne\n \nc\no\nm\n.\na\np\np\nl\ne\n.\nl\no\ng\ni\nn\nw\ni\nn\nd\no\nw\n \nL\no\ng\ni\nn\nH\no\no\nk\n \n/\nL\ni\nb\nr\na\nr\ny\n/\nS\nc\nr\ni\np\nt\ns\n/\nA\nt\no\nm\ni\nc\nR\ne\nd\nT\ne\na\nm\n.\ns\nh\n\n"
   ]
  },
  {
   "cell_type": "markdown",
   "metadata": {},
   "source": [
    "## Detection",
    "\n",
    "Monitor logon scripts for unusual access by abnormal users or at abnormal times. Look for files added or modified by unusual accounts outside of normal administration duties. Monitor running process for actions that could be indicative of abnormal programs or executables running upon logon."
   ]
  }
 ],
 "metadata": {
  "kernelspec": {
   "display_name": ".NET (PowerShell)",
   "language": "PowerShell",
   "name": ".net-powershell"
  },
  "language_info": {
   "file_extension": ".ps1",
   "mimetype": "text/x-powershell",
   "name": "PowerShell",
   "pygments_lexer": "powershell",
   "version": "7.0"
  }
 },
 "nbformat": 4,
 "nbformat_minor": 4
}