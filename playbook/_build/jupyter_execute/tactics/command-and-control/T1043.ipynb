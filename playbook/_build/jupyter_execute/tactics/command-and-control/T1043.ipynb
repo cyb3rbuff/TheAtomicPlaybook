{
 "cells": [
  {
   "cell_type": "markdown",
   "metadata": {},
   "source": [
    "# T1043 - Commonly Used Port\n",
    "**This technique has been deprecated. Please use [Non-Standard Port](https://attack.mitre.org/techniques/T1571) where appropriate.**\n",
    "\n",
    "Adversaries may communicate over a commonly used port to bypass firewalls or network detection systems and to blend with normal network activity to avoid more detailed inspection. They may use commonly open ports such as\n",
    "\n",
    "* TCP:80 (HTTP)\n",
    "* TCP:443 (HTTPS)\n",
    "* TCP:25 (SMTP)\n",
    "* TCP/UDP:53 (DNS)\n",
    "\n",
    "They may use the protocol associated with the port or a completely different protocol. \n",
    "\n",
    "For connections that occur internally within an enclave (such as those between a proxy or pivot node and other nodes), examples of common ports are \n",
    "\n",
    "* TCP/UDP:135 (RPC)\n",
    "* TCP/UDP:22 (SSH)\n",
    "* TCP/UDP:3389 (RDP)"
   ]
  },
  {
   "cell_type": "markdown",
   "metadata": {},
   "source": [
    "## Atomic Tests:\n",
    "Currently, no tests are available for this technique."
   ]
  },
  {
   "cell_type": "markdown",
   "metadata": {},
   "source": [
    "## Detection\n",
    "Analyze network data for uncommon data flows (e.g., a client sending significantly more data than it receives from a server). Processes utilizing the network that do not normally have network communication or have never been seen before are suspicious. Analyze packet contents to detect communications that do not follow the expected protocol behavior for the port that is being used. (Citation: University of Birmingham C2)"
   ]
  }
 ],
 "metadata": {
  "kernelspec": {
   "display_name": ".NET (PowerShell)",
   "language": "PowerShell",
   "name": ".net-powershell"
  },
  "language_info": {
   "file_extension": ".ps1",
   "mimetype": "text/x-powershell",
   "name": "PowerShell",
   "pygments_lexer": "powershell",
   "version": "7.0"
  }
 },
 "nbformat": 4,
 "nbformat_minor": 4
}