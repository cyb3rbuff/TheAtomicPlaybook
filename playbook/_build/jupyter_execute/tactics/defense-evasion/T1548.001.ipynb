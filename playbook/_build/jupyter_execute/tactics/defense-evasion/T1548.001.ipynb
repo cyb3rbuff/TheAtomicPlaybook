{
 "cells": [
  {
   "cell_type": "markdown",
   "metadata": {},
   "source": [
    "# T1548.001 - Abuse Elevation Control Mechanism: Setuid and Setgid\n",
    "An adversary may perform shell escapes or exploit vulnerabilities in an application with the setsuid or setgid bits to get code running in a different user’s context. On Linux or macOS, when the setuid or setgid bits are set for an application, the application will run with the privileges of the owning user or group respectively. (Citation: setuid man page). Normally an application is run in the current user’s context, regardless of which user or group owns the application. However, there are instances where programs need to be executed in an elevated context to function properly, but the user running them doesn’t need the elevated privileges.\n",
    "\n",
    "Instead of creating an entry in the sudoers file, which must be done by root, any user can specify the setuid or setgid flag to be set for their own applications. These bits are indicated with an \"s\" instead of an \"x\" when viewing a file's attributes via <code>ls -l</code>. The <code>chmod</code> program can set these bits with via bitmasking, <code>chmod 4777 [file]</code> or via shorthand naming, <code>chmod u+s [file]</code>.\n",
    "\n",
    "Adversaries can use this mechanism on their own malware to make sure they're able to execute in elevated contexts in the future.(Citation: OSX Keydnap malware)."
   ]
  },
  {
   "cell_type": "markdown",
   "metadata": {},
   "source": [
    "## Atomic Tests"
   ]
  },
  {
   "cell_type": "code",
   "execution_count": null,
   "metadata": {},
   "outputs": [],
   "source": [
    "#Import the Module before running the tests.\n",
    "Import-Module /Users/0x6c/AtomicRedTeam/atomics/invoke-atomicredteam/Invoke-AtomicRedTeam.psd1 - Force"
   ]
  },
  {
   "cell_type": "markdown",
   "metadata": {},
   "source": [
    "### Atomic Test #1 - Make and modify binary from C source\n",
    "Make, change owner, and change file attributes on a C source code file\n",
    "\n",
    "**Supported Platforms:** macos, linux\n",
    "#### Attack Commands: Run with `sh`\n",
    "```sh\n",
    "cp #{payload} /tmp/hello.c\n",
    "sudo chown root /tmp/hello.c\n",
    "sudo make /tmp/hello\n",
    "sudo chown root /tmp/hello\n",
    "sudo chmod u+s /tmp/hello\n",
    "/tmp/hello\n",
    "```"
   ]
  },
  {
   "cell_type": "code",
   "execution_count": null,
   "metadata": {},
   "outputs": [],
   "source": [
    "Invoke-AtomicTest T1548.001 -TestNumbers 1"
   ]
  },
  {
   "cell_type": "markdown",
   "metadata": {},
   "source": [
    "### Atomic Test #2 - Set a SetUID flag on file\n",
    "This test sets the SetUID flag on a file in Linux and macOS.\n",
    "\n",
    "**Supported Platforms:** macos, linux\n",
    "#### Attack Commands: Run with `sh`\n",
    "```sh\n",
    "sudo touch #{file_to_setuid}\n",
    "sudo chown root #{file_to_setuid}\n",
    "sudo chmod u+s #{file_to_setuid}\n",
    "```"
   ]
  },
  {
   "cell_type": "code",
   "execution_count": null,
   "metadata": {},
   "outputs": [],
   "source": [
    "Invoke-AtomicTest T1548.001 -TestNumbers 2"
   ]
  },
  {
   "cell_type": "markdown",
   "metadata": {},
   "source": [
    "### Atomic Test #3 - Set a SetGID flag on file\n",
    "This test sets the SetGID flag on a file in Linux and macOS.\n",
    "\n",
    "**Supported Platforms:** macos, linux\n",
    "#### Attack Commands: Run with `sh`\n",
    "```sh\n",
    "sudo touch #{file_to_setuid}\n",
    "sudo chown root #{file_to_setuid}\n",
    "sudo chmod g+s #{file_to_setuid}\n",
    "```"
   ]
  },
  {
   "cell_type": "code",
   "execution_count": null,
   "metadata": {},
   "outputs": [],
   "source": [
    "Invoke-AtomicTest T1548.001 -TestNumbers 3"
   ]
  },
  {
   "cell_type": "markdown",
   "metadata": {},
   "source": [
    "## Detection\n",
    "Monitor the file system for files that have the setuid or setgid bits set. Monitor for execution of utilities, like chmod, and their command-line arguments to look for setuid or setguid bits being set."
   ]
  }
 ],
 "metadata": {
  "kernelspec": {
   "display_name": ".NET (PowerShell)",
   "language": "PowerShell",
   "name": ".net-powershell"
  },
  "language_info": {
   "file_extension": ".ps1",
   "mimetype": "text/x-powershell",
   "name": "PowerShell",
   "pygments_lexer": "powershell",
   "version": "7.0"
  }
 },
 "nbformat": 4,
 "nbformat_minor": 4
}