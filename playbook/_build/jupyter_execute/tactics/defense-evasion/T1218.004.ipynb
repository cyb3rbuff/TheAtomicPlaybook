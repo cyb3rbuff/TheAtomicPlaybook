{
 "cells": [
  {
   "cell_type": "markdown",
   "metadata": {},
   "source": [
    "# T1218.004 - Signed Binary Proxy Execution: InstallUtil\n",
    "Adversaries may use InstallUtil to proxy execution of code through a trusted Windows utility. InstallUtil is a command-line utility that allows for installation and uninstallation of resources by executing specific installer components specified in .NET binaries. (Citation: MSDN InstallUtil) InstallUtil is digitally signed by Microsoft and located in the .NET directories on a Windows system: <code>C:\\Windows\\Microsoft.NET\\Framework\\v<version>\\InstallUtil.exe</code> and <code>C:\\Windows\\Microsoft.NET\\Framework64\\v<version>\\InstallUtil.exe</code>.\n",
    "\n",
    "InstallUtil may also be used to bypass application control through use of attributes within the binary that execute the class decorated with the attribute <code>[System.ComponentModel.RunInstaller(true)]</code>. (Citation: LOLBAS Installutil)"
   ]
  },
  {
   "cell_type": "markdown",
   "metadata": {},
   "source": [
    "## Atomic Tests"
   ]
  },
  {
   "cell_type": "code",
   "execution_count": null,
   "metadata": {},
   "outputs": [],
   "source": [
    "#Import the Module before running the tests.\n",
    "Import-Module /Users/0x6c/AtomicRedTeam/atomics/invoke-atomicredteam/Invoke-AtomicRedTeam.psd1 - Force"
   ]
  },
  {
   "cell_type": "markdown",
   "metadata": {},
   "source": [
    "### Atomic Test #1 - CheckIfInstallable method call\n",
    "Executes the CheckIfInstallable class constructor runner instead of executing InstallUtil. Upon execution, the InstallUtil test harness will be executed.\n",
    "If no output is displayed the test executed successfuly.\n",
    "\n",
    "**Supported Platforms:** windows\n",
    "#### Attack Commands: Run with `powershell`\n",
    "```powershell\n",
    "# Import the required test harness function, Invoke-BuildAndInvokeInstallUtilAssembly\n",
    ". #{test_harness}\n",
    "\n",
    "$InstallerAssemblyDir = \"#{assembly_dir}\"\n",
    "$InstallerAssemblyFileName = \"#{assembly_filename}\"\n",
    "$InstallerAssemblyFullPath = Join-Path -Path $InstallerAssemblyDir -ChildPath $InstallerAssemblyFileName\n",
    "\n",
    "$ExpectedOutput = 'Constructor_'\n",
    "\n",
    "$TestArgs = @{\n",
    "    OutputAssemblyDirectory = $InstallerAssemblyDir\n",
    "    OutputAssemblyFileName = $InstallerAssemblyFileName\n",
    "    InvocationMethod = '#{invocation_method}'\n",
    "}\n",
    "\n",
    "$ActualOutput = Invoke-BuildAndInvokeInstallUtilAssembly @TestArgs -MinimumViableAssembly\n",
    "\n",
    "if ($ActualOutput -ne $ExpectedOutput) {\n",
    "    throw @\"\n",
    "CheckIfInstallable method execution test failure. Installer assembly execution output did not match the expected output.\n",
    "Expected: $ExpectedOutput\n",
    "Actual: $ActualOutput\n",
    "\"@\n",
    "}\n",
    "```"
   ]
  },
  {
   "cell_type": "code",
   "execution_count": null,
   "metadata": {},
   "outputs": [],
   "source": [
    "Invoke-AtomicTest T1218.004 -TestNumbers 1"
   ]
  },
  {
   "cell_type": "markdown",
   "metadata": {},
   "source": [
    "### Atomic Test #2 - InstallHelper method call\n",
    "Executes the InstallHelper class constructor runner instead of executing InstallUtil. Upon execution, no output will be displayed if the test\n",
    "executed successfuly.\n",
    "\n",
    "**Supported Platforms:** windows\n",
    "#### Attack Commands: Run with `powershell`\n",
    "```powershell\n",
    "# Import the required test harness function, Invoke-BuildAndInvokeInstallUtilAssembly\n",
    ". #{test_harness}\n",
    "\n",
    "$InstallerAssemblyDir = \"#{assembly_dir}\"\n",
    "$InstallerAssemblyFileName = \"#{assembly_filename}\"\n",
    "$InstallerAssemblyFullPath = Join-Path -Path $InstallerAssemblyDir -ChildPath $InstallerAssemblyFileName\n",
    "\n",
    "$CommandLine = \"/logfile= /logtoconsole=false `\"$InstallerAssemblyFullPath`\"\"\n",
    "$ExpectedOutput = 'Constructor_'\n",
    "\n",
    "$TestArgs = @{\n",
    "    OutputAssemblyDirectory = $InstallerAssemblyDir\n",
    "    OutputAssemblyFileName = $InstallerAssemblyFileName\n",
    "    InvocationMethod = '#{invocation_method}'\n",
    "    CommandLine = $CommandLine\n",
    "}\n",
    "\n",
    "$ActualOutput = Invoke-BuildAndInvokeInstallUtilAssembly @TestArgs -MinimumViableAssembly\n",
    "\n",
    "if ($ActualOutput -ne $ExpectedOutput) {\n",
    "    throw @\"\n",
    "InstallHelper method execution test failure. Installer assembly execution output did not match the expected output.\n",
    "Expected: $ExpectedOutput\n",
    "Actual: $ActualOutput\n",
    "\"@\n",
    "}\n",
    "```"
   ]
  },
  {
   "cell_type": "code",
   "execution_count": null,
   "metadata": {},
   "outputs": [],
   "source": [
    "Invoke-AtomicTest T1218.004 -TestNumbers 2"
   ]
  },
  {
   "cell_type": "markdown",
   "metadata": {},
   "source": [
    "### Atomic Test #3 - InstallUtil class constructor method call\n",
    "Executes the installer assembly class constructor. Upon execution, version information will be displayed the .NET framework install utility.\n",
    "\n",
    "**Supported Platforms:** windows\n",
    "#### Attack Commands: Run with `powershell`\n",
    "```powershell\n",
    "# Import the required test harness function, Invoke-BuildAndInvokeInstallUtilAssembly\n",
    ". #{test_harness}\n",
    "\n",
    "$InstallerAssemblyDir = \"#{assembly_dir}\"\n",
    "$InstallerAssemblyFileName = \"#{assembly_filename}\"\n",
    "$InstallerAssemblyFullPath = Join-Path -Path $InstallerAssemblyDir -ChildPath $InstallerAssemblyFileName\n",
    "\n",
    "$CommandLine = \"/logfile= /logtoconsole=false `\"$InstallerAssemblyFullPath`\"\"\n",
    "$ExpectedOutput = 'Constructor_'\n",
    "\n",
    "$TestArgs = @{\n",
    "    OutputAssemblyDirectory = $InstallerAssemblyDir\n",
    "    OutputAssemblyFileName = $InstallerAssemblyFileName\n",
    "    InvocationMethod = '#{invocation_method}'\n",
    "    CommandLine = $CommandLine\n",
    "}\n",
    "\n",
    "$ActualOutput = Invoke-BuildAndInvokeInstallUtilAssembly @TestArgs -MinimumViableAssembly\n",
    "\n",
    "if ($ActualOutput -ne $ExpectedOutput) {\n",
    "    throw @\"\n",
    "InstallUtil class constructor execution test failure. Installer assembly execution output did not match the expected output.\n",
    "Expected: $ExpectedOutput\n",
    "Actual: $ActualOutput\n",
    "\"@\n",
    "}\n",
    "```"
   ]
  },
  {
   "cell_type": "code",
   "execution_count": null,
   "metadata": {},
   "outputs": [],
   "source": [
    "Invoke-AtomicTest T1218.004 -TestNumbers 3"
   ]
  },
  {
   "cell_type": "markdown",
   "metadata": {},
   "source": [
    "### Atomic Test #4 - InstallUtil Install method call\n",
    "Executes the Install Method. Upon execution, version information will be displayed the .NET framework install utility.\n",
    "\n",
    "**Supported Platforms:** windows\n",
    "#### Attack Commands: Run with `powershell`\n",
    "```powershell\n",
    "# Import the required test harness function, Invoke-BuildAndInvokeInstallUtilAssembly\n",
    ". #{test_harness}\n",
    "\n",
    "$InstallerAssemblyDir = \"#{assembly_dir}\"\n",
    "$InstallerAssemblyFileName = \"#{assembly_filename}\"\n",
    "$InstallerAssemblyFullPath = Join-Path -Path $InstallerAssemblyDir -ChildPath $InstallerAssemblyFileName\n",
    "\n",
    "$CommandLine = \"/logfile= /logtoconsole=false /installtype=notransaction /action=install `\"$InstallerAssemblyFullPath`\"\"\n",
    "$ExpectedOutput = 'Constructor_Install_'\n",
    "\n",
    "$TestArgs = @{\n",
    "    OutputAssemblyDirectory = $InstallerAssemblyDir\n",
    "    OutputAssemblyFileName = $InstallerAssemblyFileName\n",
    "    InvocationMethod = '#{invocation_method}'\n",
    "    CommandLine = $CommandLine\n",
    "}\n",
    "\n",
    "$ActualOutput = Invoke-BuildAndInvokeInstallUtilAssembly @TestArgs\n",
    "\n",
    "if ($ActualOutput -ne $ExpectedOutput) {\n",
    "    throw @\"\n",
    "InstallUtil Install method execution test failure. Installer assembly execution output did not match the expected output.\n",
    "Expected: $ExpectedOutput\n",
    "Actual: $ActualOutput\n",
    "\"@\n",
    "}\n",
    "```"
   ]
  },
  {
   "cell_type": "code",
   "execution_count": null,
   "metadata": {},
   "outputs": [],
   "source": [
    "Invoke-AtomicTest T1218.004 -TestNumbers 4"
   ]
  },
  {
   "cell_type": "markdown",
   "metadata": {},
   "source": [
    "### Atomic Test #5 - InstallUtil Uninstall method call - /U variant\n",
    "Executes the Uninstall Method. Upon execution, version information will be displayed the .NET framework install utility.\n",
    "\n",
    "**Supported Platforms:** windows\n",
    "#### Attack Commands: Run with `powershell`\n",
    "```powershell\n",
    "# Import the required test harness function, Invoke-BuildAndInvokeInstallUtilAssembly\n",
    ". #{test_harness}\n",
    "\n",
    "$InstallerAssemblyDir = \"#{assembly_dir}\"\n",
    "$InstallerAssemblyFileName = \"#{assembly_filename}\"\n",
    "$InstallerAssemblyFullPath = Join-Path -Path $InstallerAssemblyDir -ChildPath $InstallerAssemblyFileName\n",
    "\n",
    "$CommandLine = \"/logfile= /logtoconsole=false /U `\"$InstallerAssemblyFullPath`\"\"\n",
    "$ExpectedOutput = 'Constructor_Uninstall_'\n",
    "\n",
    "$TestArgs = @{\n",
    "    OutputAssemblyDirectory = $InstallerAssemblyDir\n",
    "    OutputAssemblyFileName = $InstallerAssemblyFileName\n",
    "    InvocationMethod = '#{invocation_method}'\n",
    "    CommandLine = $CommandLine\n",
    "}\n",
    "\n",
    "$ActualOutput = Invoke-BuildAndInvokeInstallUtilAssembly @TestArgs\n",
    "\n",
    "if ($ActualOutput -ne $ExpectedOutput) {\n",
    "    throw @\"\n",
    "InstallUtil Uninstall method execution test failure. Installer assembly execution output did not match the expected output.\n",
    "Expected: $ExpectedOutput\n",
    "Actual: $ActualOutput\n",
    "\"@\n",
    "}\n",
    "```"
   ]
  },
  {
   "cell_type": "code",
   "execution_count": null,
   "metadata": {},
   "outputs": [],
   "source": [
    "Invoke-AtomicTest T1218.004 -TestNumbers 5"
   ]
  },
  {
   "cell_type": "markdown",
   "metadata": {},
   "source": [
    "### Atomic Test #6 - InstallUtil Uninstall method call - '/installtype=notransaction /action=uninstall' variant\n",
    "Executes the Uninstall Method. Upon execution, version information will be displayed the .NET framework install utility.\n",
    "\n",
    "**Supported Platforms:** windows\n",
    "#### Attack Commands: Run with `powershell`\n",
    "```powershell\n",
    "# Import the required test harness function, Invoke-BuildAndInvokeInstallUtilAssembly\n",
    ". #{test_harness}\n",
    "\n",
    "$InstallerAssemblyDir = \"#{assembly_dir}\"\n",
    "$InstallerAssemblyFileName = \"#{assembly_filename}\"\n",
    "$InstallerAssemblyFullPath = Join-Path -Path $InstallerAssemblyDir -ChildPath $InstallerAssemblyFileName\n",
    "\n",
    "$CommandLine = \"/logfile= /logtoconsole=false /installtype=notransaction /action=uninstall `\"$InstallerAssemblyFullPath`\"\"\n",
    "$ExpectedOutput = 'Constructor_Uninstall_'\n",
    "\n",
    "$TestArgs = @{\n",
    "    OutputAssemblyDirectory = $InstallerAssemblyDir\n",
    "    OutputAssemblyFileName = $InstallerAssemblyFileName\n",
    "    InvocationMethod = '#{invocation_method}'\n",
    "    CommandLine = $CommandLine\n",
    "}\n",
    "\n",
    "$ActualOutput = Invoke-BuildAndInvokeInstallUtilAssembly @TestArgs\n",
    "\n",
    "if ($ActualOutput -ne $ExpectedOutput) {\n",
    "    throw @\"\n",
    "InstallUtil Uninstall method execution test failure. Installer assembly execution output did not match the expected output.\n",
    "Expected: $ExpectedOutput\n",
    "Actual: $ActualOutput\n",
    "\"@\n",
    "}\n",
    "```"
   ]
  },
  {
   "cell_type": "code",
   "execution_count": null,
   "metadata": {},
   "outputs": [],
   "source": [
    "Invoke-AtomicTest T1218.004 -TestNumbers 6"
   ]
  },
  {
   "cell_type": "markdown",
   "metadata": {},
   "source": [
    "### Atomic Test #7 - InstallUtil HelpText method call\n",
    "Executes the Uninstall Method. Upon execution, help information will be displayed for InstallUtil.\n",
    "\n",
    "**Supported Platforms:** windows\n",
    "#### Attack Commands: Run with `powershell`\n",
    "```powershell\n",
    "# Import the required test harness function, Invoke-BuildAndInvokeInstallUtilAssembly\n",
    ". #{test_harness}\n",
    "\n",
    "$InstallerAssemblyDir = \"#{assembly_dir}\"\n",
    "$InstallerAssemblyFileName = \"#{assembly_filename}\"\n",
    "$InstallerAssemblyFullPath = Join-Path -Path $InstallerAssemblyDir -ChildPath $InstallerAssemblyFileName\n",
    "\n",
    "$CommandLine = \"/? `\"$InstallerAssemblyFullPath`\"\"\n",
    "$ExpectedOutput = 'Constructor_HelpText_'\n",
    "\n",
    "$TestArgs = @{\n",
    "    OutputAssemblyDirectory = $InstallerAssemblyDir\n",
    "    OutputAssemblyFileName = $InstallerAssemblyFileName\n",
    "    InvocationMethod = '#{invocation_method}'\n",
    "    CommandLine = $CommandLine\n",
    "}\n",
    "\n",
    "$ActualOutput = Invoke-BuildAndInvokeInstallUtilAssembly @TestArgs\n",
    "\n",
    "if ($ActualOutput -ne $ExpectedOutput) {\n",
    "    throw @\"\n",
    "InstallUtil HelpText property execution test failure. Installer assembly execution output did not match the expected output.\n",
    "Expected: $ExpectedOutput\n",
    "Actual: $ActualOutput\n",
    "\"@\n",
    "}\n",
    "```"
   ]
  },
  {
   "cell_type": "code",
   "execution_count": null,
   "metadata": {},
   "outputs": [],
   "source": [
    "Invoke-AtomicTest T1218.004 -TestNumbers 7"
   ]
  },
  {
   "cell_type": "markdown",
   "metadata": {},
   "source": [
    "### Atomic Test #8 - InstallUtil evasive invocation\n",
    "Executes an InstallUtil assembly by renaming InstallUtil.exe and using a nonstandard extension for the assembly. Upon execution, \"Running a transacted installation.\"\n",
    "will be displayed, along with other information about the opperation. \"The transacted install has completed.\" will be displayed upon completion.\n",
    "\n",
    "**Supported Platforms:** windows\n",
    "#### Attack Commands: Run with `powershell`\n",
    "```powershell\n",
    "# Import the required test harness function, Invoke-BuildAndInvokeInstallUtilAssembly\n",
    ". #{test_harness}\n",
    "\n",
    "$InstallerAssemblyDir = \"$Env:windir\\System32\\Tasks\"\n",
    "$InstallerAssemblyFileName = 'readme.txt'\n",
    "$InstallerAssemblyFullPath = Join-Path -Path $InstallerAssemblyDir -ChildPath $InstallerAssemblyFileName\n",
    "\n",
    "$CommandLine = \"readme.txt\"\n",
    "$ExpectedOutput = 'Constructor_'\n",
    "\n",
    "# Explicitly set the directory so that a relative path to readme.txt can be supplied.\n",
    "Set-Location \"$Env:windir\\System32\\Tasks\"\n",
    "\n",
    "Copy-Item -Path \"$([System.Runtime.InteropServices.RuntimeEnvironment]::GetRuntimeDirectory())InstallUtil.exe\" -Destination \"$Env:windir\\System32\\Tasks\\notepad.exe\"\n",
    "\n",
    "$TestArgs = @{\n",
    "    OutputAssemblyDirectory = $InstallerAssemblyDir\n",
    "    OutputAssemblyFileName = $InstallerAssemblyFileName\n",
    "    InvocationMethod = 'Executable'\n",
    "    CommandLine = $CommandLine\n",
    "    InstallUtilPath = \"$Env:windir\\System32\\Tasks\\notepad.exe\"\n",
    "}\n",
    "\n",
    "$ActualOutput = Invoke-BuildAndInvokeInstallUtilAssembly @TestArgs -MinimumViableAssembly\n",
    "\n",
    "if ($ActualOutput -ne $ExpectedOutput) {\n",
    "    throw @\"\n",
    "Evasive Installutil invocation test failure. Installer assembly execution output did not match the expected output.\n",
    "Expected: $ExpectedOutput\n",
    "Actual: $ActualOutput\n",
    "\"@\n",
    "}\n",
    "```"
   ]
  },
  {
   "cell_type": "code",
   "execution_count": null,
   "metadata": {},
   "outputs": [],
   "source": [
    "Invoke-AtomicTest T1218.004 -TestNumbers 8"
   ]
  },
  {
   "cell_type": "markdown",
   "metadata": {},
   "source": [
    "## Detection\n",
    "Use process monitoring to monitor the execution and arguments of InstallUtil.exe. Compare recent invocations of InstallUtil.exe with prior history of known good arguments and executed binaries to determine anomalous and potentially adversarial activity. Command arguments used before and after the InstallUtil.exe invocation may also be useful in determining the origin and purpose of the binary being executed."
   ]
  }
 ],
 "metadata": {
  "kernelspec": {
   "display_name": ".NET (PowerShell)",
   "language": "PowerShell",
   "name": ".net-powershell"
  },
  "language_info": {
   "file_extension": ".ps1",
   "mimetype": "text/x-powershell",
   "name": "PowerShell",
   "pygments_lexer": "powershell",
   "version": "7.0"
  }
 },
 "nbformat": 4,
 "nbformat_minor": 4
}