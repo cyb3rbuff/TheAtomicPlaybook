{
 "cells": [
  {
   "cell_type": "markdown",
   "metadata": {},
   "source": [
    "# T1110.004 - Credential Stuffing\n",
    "Adversaries may use credentials obtained from breach dumps of unrelated accounts to gain access to target accounts through credential overlap. Occasionally, large numbers of username and password pairs are dumped online when a website or service is compromised and the user account credentials accessed. The information may be useful to an adversary attempting to compromise accounts by taking advantage of the tendency for users to use the same passwords across personal and business accounts.\n",
    "\n",
    "Credential stuffing is a risky option because it could cause numerous authentication failures and account lockouts, depending on the organization's login failure policies.\n",
    "\n",
    "Typically, management services over commonly used ports are used when stuffing credentials. Commonly targeted services include the following:\n",
    "\n",
    "* SSH (22/TCP)\n",
    "* Telnet (23/TCP)\n",
    "* FTP (21/TCP)\n",
    "* NetBIOS / SMB / Samba (139/TCP & 445/TCP)\n",
    "* LDAP (389/TCP)\n",
    "* Kerberos (88/TCP)\n",
    "* RDP / Terminal Services (3389/TCP)\n",
    "* HTTP/HTTP Management Services (80/TCP & 443/TCP)\n",
    "* MSSQL (1433/TCP)\n",
    "* Oracle (1521/TCP)\n",
    "* MySQL (3306/TCP)\n",
    "* VNC (5900/TCP)\n",
    "\n",
    "In addition to management services, adversaries may \"target single sign-on (SSO) and cloud-based applications utilizing federated authentication protocols,\" as well as externally facing email applications, such as Office 365.(Citation: US-CERT TA18-068A 2018)"
   ]
  },
  {
   "cell_type": "markdown",
   "metadata": {},
   "source": [
    "## Atomic Tests:\n",
    "Currently, no tests are available for this technique."
   ]
  },
  {
   "cell_type": "markdown",
   "metadata": {},
   "source": [
    "## Detection\n",
    "Monitor authentication logs for system and application login failures of [Valid Accounts](https://attack.mitre.org/techniques/T1078). If authentication failures are high, then there may be a brute force attempt to gain access to a system using legitimate credentials."
   ]
  }
 ],
 "metadata": {
  "kernelspec": {
   "display_name": ".NET (PowerShell)",
   "language": "PowerShell",
   "name": ".net-powershell"
  },
  "language_info": {
   "file_extension": ".ps1",
   "mimetype": "text/x-powershell",
   "name": "PowerShell",
   "pygments_lexer": "powershell",
   "version": "7.0"
  }
 },
 "nbformat": 4,
 "nbformat_minor": 4
}