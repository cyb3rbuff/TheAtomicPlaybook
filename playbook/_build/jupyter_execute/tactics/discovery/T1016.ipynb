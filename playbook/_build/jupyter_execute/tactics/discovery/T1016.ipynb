{
 "cells": [
  {
   "cell_type": "markdown",
   "metadata": {},
   "source": [
    "# T1016 - System Network Configuration Discovery\n",
    "Adversaries may look for details about the network configuration and settings of systems they access or through information discovery of remote systems. Several operating system administration utilities exist that can be used to gather this information. Examples include [Arp](https://attack.mitre.org/software/S0099), [ipconfig](https://attack.mitre.org/software/S0100)/[ifconfig](https://attack.mitre.org/software/S0101), [nbtstat](https://attack.mitre.org/software/S0102), and [route](https://attack.mitre.org/software/S0103).\n",
    "\n",
    "Adversaries may use the information from [System Network Configuration Discovery](https://attack.mitre.org/techniques/T1016) during automated discovery to shape follow-on behaviors, including whether or not the adversary fully infects the target and/or attempts specific actions."
   ]
  },
  {
   "cell_type": "markdown",
   "metadata": {},
   "source": [
    "## Atomic Tests"
   ]
  },
  {
   "cell_type": "code",
   "execution_count": null,
   "metadata": {},
   "outputs": [],
   "source": [
    "#Import the Module before running the tests.\n",
    "Import-Module /Users/0x6c/AtomicRedTeam/atomics/invoke-atomicredteam/Invoke-AtomicRedTeam.psd1 - Force"
   ]
  },
  {
   "cell_type": "markdown",
   "metadata": {},
   "source": [
    "### Atomic Test #1 - System Network Configuration Discovery on Windows\n",
    "Identify network configuration information\n",
    "\n",
    "Upon successful execution, cmd.exe will spawn multiple commands to list network configuration settings. Output will be via stdout.\n",
    "\n",
    "**Supported Platforms:** windows\n",
    "#### Attack Commands: Run with `command_prompt`\n",
    "```command_prompt\n",
    "ipconfig /all\n",
    "netsh interface show interface\n",
    "arp -a\n",
    "nbtstat -n\n",
    "net config\n",
    "```"
   ]
  },
  {
   "cell_type": "code",
   "execution_count": null,
   "metadata": {},
   "outputs": [],
   "source": [
    "Invoke-AtomicTest T1016 -TestNumbers 1"
   ]
  },
  {
   "cell_type": "markdown",
   "metadata": {},
   "source": [
    "### Atomic Test #2 - List Windows Firewall Rules\n",
    "Enumerates Windows Firewall Rules using netsh.\n",
    "\n",
    "Upon successful execution, cmd.exe will spawn netsh.exe to list firewall rules. Output will be via stdout.\n",
    "\n",
    "**Supported Platforms:** windows\n",
    "#### Attack Commands: Run with `command_prompt`\n",
    "```command_prompt\n",
    "netsh advfirewall firewall show rule name=all\n",
    "```"
   ]
  },
  {
   "cell_type": "code",
   "execution_count": null,
   "metadata": {},
   "outputs": [],
   "source": [
    "Invoke-AtomicTest T1016 -TestNumbers 2"
   ]
  },
  {
   "cell_type": "markdown",
   "metadata": {},
   "source": [
    "### Atomic Test #3 - System Network Configuration Discovery\n",
    "Identify network configuration information.\n",
    "\n",
    "Upon successful execution, sh will spawn multiple commands and output will be via stdout.\n",
    "\n",
    "**Supported Platforms:** macos, linux\n",
    "#### Attack Commands: Run with `sh`\n",
    "```sh\n",
    "if [ -x \"$(command -v arp)\" ]; then arp -a; else echo \"arp is missing from the machine. skipping...\"; fi;\n",
    "if [ -x \"$(command -v ifconfig)\" ]; then ifconfig; else echo \"ifconfig is missing from the machine. skipping...\"; fi;\n",
    "if [ -x \"$(command -v ip)\" ]; then ip addr; else echo \"ip is missing from the machine. skipping...\"; fi;\n",
    "if [ -x \"$(command -v netstat)\" ]; then netstat -ant | awk '{print $NF}' | grep -v '[a-z]' | sort | uniq -c; else echo \"netstat is missing from the machine. skipping...\"; fi;\n",
    "```"
   ]
  },
  {
   "cell_type": "code",
   "execution_count": null,
   "metadata": {},
   "outputs": [],
   "source": [
    "Invoke-AtomicTest T1016 -TestNumbers 3"
   ]
  },
  {
   "cell_type": "markdown",
   "metadata": {},
   "source": [
    "### Atomic Test #4 - System Network Configuration Discovery (TrickBot Style)\n",
    "Identify network configuration information as seen by Trickbot and described here https://www.sneakymonkey.net/2019/10/29/trickbot-analysis-part-ii/\n",
    "\n",
    "Upon successful execution, cmd.exe will spawn `ipconfig /all`, `net config workstation`, `net view /all /domain`, `nltest /domain_trusts`. Output will be via stdout.\n",
    "\n",
    "**Supported Platforms:** windows\n",
    "#### Attack Commands: Run with `command_prompt`\n",
    "```command_prompt\n",
    "ipconfig /all\n",
    "net config workstation\n",
    "net view /all /domain\n",
    "nltest /domain_trusts\n",
    "```"
   ]
  },
  {
   "cell_type": "code",
   "execution_count": null,
   "metadata": {},
   "outputs": [],
   "source": [
    "Invoke-AtomicTest T1016 -TestNumbers 4"
   ]
  },
  {
   "cell_type": "markdown",
   "metadata": {},
   "source": [
    "### Atomic Test #5 - List Open Egress Ports\n",
    "This is to test for what ports are open outbound.  The technique used was taken from the following blog:\n",
    "https://www.blackhillsinfosec.com/poking-holes-in-the-firewall-egress-testing-with-allports-exposed/\n",
    "\n",
    "Upon successful execution, powershell will read top-128.txt (ports) and contact each port to confirm if open or not. Output will be to Desktop\\open-ports.txt.\n",
    "\n",
    "**Supported Platforms:** windows\n",
    "#### Attack Commands: Run with `powershell`\n",
    "```powershell\n",
    "$ports = Get-content #{port_file}\n",
    "$file = \"#{output_file}\"\n",
    "$totalopen = 0\n",
    "$totalports = 0\n",
    "New-Item $file -Force\n",
    "foreach ($port in $ports) {\n",
    "    $test = new-object system.Net.Sockets.TcpClient\n",
    "    $wait = $test.beginConnect(\"allports.exposed\", $port, $null, $null)\n",
    "    $wait.asyncwaithandle.waitone(250, $false) | Out-Null\n",
    "    $totalports++ | Out-Null\n",
    "    if ($test.Connected) {\n",
    "        $result = \"$port open\" \n",
    "        Write-Host -ForegroundColor Green $result\n",
    "        $result | Out-File -Encoding ASCII -append $file\n",
    "        $totalopen++ | Out-Null\n",
    "    }\n",
    "    else {\n",
    "        $result = \"$port closed\" \n",
    "        Write-Host -ForegroundColor Red $result\n",
    "        $totalclosed++ | Out-Null\n",
    "        $result | Out-File -Encoding ASCII -append $file\n",
    "    }\n",
    "}\n",
    "$results = \"There were a total of $totalopen open ports out of $totalports ports tested.\"\n",
    "$results | Out-File -Encoding ASCII -append $file\n",
    "Write-Host $results\n",
    "```"
   ]
  },
  {
   "cell_type": "code",
   "execution_count": null,
   "metadata": {},
   "outputs": [],
   "source": [
    "Invoke-AtomicTest T1016 -TestNumbers 5"
   ]
  },
  {
   "cell_type": "markdown",
   "metadata": {},
   "source": [
    "## Detection\n",
    "System and network discovery techniques normally occur throughout an operation as an adversary learns the environment. Data and events should not be viewed in isolation, but as part of a chain of behavior that could lead to other activities, such as Lateral Movement, based on the information obtained.\n",
    "\n",
    "Monitor processes and command-line arguments for actions that could be taken to gather system and network information. Remote access tools with built-in features may interact directly with the Windows API to gather information. Information may also be acquired through Windows system management tools such as [Windows Management Instrumentation](https://attack.mitre.org/techniques/T1047) and [PowerShell](https://attack.mitre.org/techniques/T1059/001)."
   ]
  }
 ],
 "metadata": {
  "kernelspec": {
   "display_name": ".NET (PowerShell)",
   "language": "PowerShell",
   "name": ".net-powershell"
  },
  "language_info": {
   "file_extension": ".ps1",
   "mimetype": "text/x-powershell",
   "name": "PowerShell",
   "pygments_lexer": "powershell",
   "version": "7.0"
  }
 },
 "nbformat": 4,
 "nbformat_minor": 4
}