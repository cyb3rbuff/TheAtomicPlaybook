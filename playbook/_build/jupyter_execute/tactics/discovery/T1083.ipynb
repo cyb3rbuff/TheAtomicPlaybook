{
 "cells": [
  {
   "cell_type": "markdown",
   "metadata": {},
   "source": [
    "# T1083 - File and Directory Discovery\n",
    "Adversaries may enumerate files and directories or may search in specific locations of a host or network share for certain information within a file system. Adversaries may use the information from [File and Directory Discovery](https://attack.mitre.org/techniques/T1083) during automated discovery to shape follow-on behaviors, including whether or not the adversary fully infects the target and/or attempts specific actions.\n",
    "\n",
    "Many command shell utilities can be used to obtain this information. Examples include <code>dir</code>, <code>tree</code>, <code>ls</code>, <code>find</code>, and <code>locate</code>. (Citation: Windows Commands JPCERT) Custom tools may also be used to gather file and directory information and interact with the [Native API](https://attack.mitre.org/techniques/T1106)."
   ]
  },
  {
   "cell_type": "markdown",
   "metadata": {},
   "source": [
    "## Atomic Tests"
   ]
  },
  {
   "cell_type": "code",
   "execution_count": null,
   "metadata": {},
   "outputs": [],
   "source": [
    "#Import the Module before running the tests.\n",
    "Import-Module /Users/0x6c/AtomicRedTeam/atomics/invoke-atomicredteam/Invoke-AtomicRedTeam.psd1 - Force"
   ]
  },
  {
   "cell_type": "markdown",
   "metadata": {},
   "source": [
    "### Atomic Test #1 - File and Directory Discovery (cmd.exe)\n",
    "Find or discover files on the file system.  Upon execution, the file \"download\" will be placed in the temporary folder and contain the output of\n",
    "all of the data discovery commands.\n",
    "\n",
    "**Supported Platforms:** windows\n",
    "#### Attack Commands: Run with `command_prompt`\n",
    "```command_prompt\n",
    "dir /s c:\\ >> %temp%\\download\n",
    "dir /s \"c:\\Documents and Settings\" >> %temp%\\download\n",
    "dir /s \"c:\\Program Files\\\" >> %temp%\\download\n",
    "dir \"%systemdrive%\\Users\\*.*\" >> %temp%\\download\n",
    "dir \"%userprofile%\\AppData\\Roaming\\Microsoft\\Windows\\Recent\\*.*\" >> %temp%\\download\n",
    "dir \"%userprofile%\\Desktop\\*.*\" >> %temp%\\download\n",
    "tree /F >> %temp%\\download\n",
    "```"
   ]
  },
  {
   "cell_type": "code",
   "execution_count": null,
   "metadata": {},
   "outputs": [],
   "source": [
    "Invoke-AtomicTest T1083 -TestNumbers 1"
   ]
  },
  {
   "cell_type": "markdown",
   "metadata": {},
   "source": [
    "### Atomic Test #2 - File and Directory Discovery (PowerShell)\n",
    "Find or discover files on the file system. Upon execution, file and folder information will be displayed.\n",
    "\n",
    "**Supported Platforms:** windows\n",
    "#### Attack Commands: Run with `powershell`\n",
    "```powershell\n",
    "ls -recurse\n",
    "get-childitem -recurse\n",
    "gci -recurse\n",
    "```"
   ]
  },
  {
   "cell_type": "code",
   "execution_count": null,
   "metadata": {},
   "outputs": [],
   "source": [
    "Invoke-AtomicTest T1083 -TestNumbers 2"
   ]
  },
  {
   "cell_type": "markdown",
   "metadata": {},
   "source": [
    "### Atomic Test #3 - Nix File and Diectory Discovery\n",
    "Find or discover files on the file system\n",
    "\n",
    "References:\n",
    "\n",
    "http://osxdaily.com/2013/01/29/list-all-files-subdirectory-contents-recursively/\n",
    "\n",
    "https://perishablepress.com/list-files-folders-recursively-terminal/\n",
    "\n",
    "**Supported Platforms:** macos, linux\n",
    "#### Attack Commands: Run with `sh`\n",
    "```sh\n",
    "ls -a >> #{output_file}\n",
    "if [ -d /Library/Preferences/ ]; then ls -la /Library/Preferences/ > #{output_file}; fi;\n",
    "file */* *>> #{output_file}\n",
    "cat #{output_file} 2>/dev/null\n",
    "find . -type f\n",
    "ls -R | grep \":$\" | sed -e 's/:$//' -e 's/[^-][^\\/]*\\//--/g' -e 's/^/ /' -e 's/-/|/'\n",
    "locate *\n",
    "which sh\n",
    "```"
   ]
  },
  {
   "cell_type": "code",
   "execution_count": null,
   "metadata": {},
   "outputs": [],
   "source": [
    "Invoke-AtomicTest T1083 -TestNumbers 3"
   ]
  },
  {
   "cell_type": "markdown",
   "metadata": {},
   "source": [
    "### Atomic Test #4 - Nix File and Directory Discovery 2\n",
    "Find or discover files on the file system\n",
    "\n",
    "**Supported Platforms:** macos, linux\n",
    "#### Attack Commands: Run with `sh`\n",
    "```sh\n",
    "cd $HOME && find . -print | sed -e 's;[^/]*/;|__;g;s;__|; |;g' > #{output_file}\n",
    "if [ -f /etc/mtab ]; then cat /etc/mtab >> #{output_file}; fi;\n",
    "find . -type f -iname *.pdf >> #{output_file}\n",
    "cat #{output_file}\n",
    "find . -type f -name \".*\"\n",
    "```"
   ]
  },
  {
   "cell_type": "code",
   "execution_count": null,
   "metadata": {},
   "outputs": [],
   "source": [
    "Invoke-AtomicTest T1083 -TestNumbers 4"
   ]
  },
  {
   "cell_type": "markdown",
   "metadata": {},
   "source": [
    "## Detection\n",
    "System and network discovery techniques normally occur throughout an operation as an adversary learns the environment. Data and events should not be viewed in isolation, but as part of a chain of behavior that could lead to other activities, such as Collection and Exfiltration, based on the information obtained.\n",
    "\n",
    "Monitor processes and command-line arguments for actions that could be taken to gather system and network information. Remote access tools with built-in features may interact directly with the Windows API to gather information. Information may also be acquired through Windows system management tools such as [Windows Management Instrumentation](https://attack.mitre.org/techniques/T1047) and [PowerShell](https://attack.mitre.org/techniques/T1059/001)."
   ]
  }
 ],
 "metadata": {
  "kernelspec": {
   "display_name": ".NET (PowerShell)",
   "language": "PowerShell",
   "name": ".net-powershell"
  },
  "language_info": {
   "file_extension": ".ps1",
   "mimetype": "text/x-powershell",
   "name": "PowerShell",
   "pygments_lexer": "powershell",
   "version": "7.0"
  }
 },
 "nbformat": 4,
 "nbformat_minor": 4
}